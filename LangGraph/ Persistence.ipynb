{
 "cells": [
  {
   "cell_type": "markdown",
   "id": "eceaa5c1",
   "metadata": {},
   "source": [
    "## Persistence In LangGraph"
   ]
  },
  {
   "cell_type": "code",
   "execution_count": 1,
   "id": "c762da2e",
   "metadata": {},
   "outputs": [
    {
     "data": {
      "text/plain": [
       "True"
      ]
     },
     "execution_count": 1,
     "metadata": {},
     "output_type": "execute_result"
    }
   ],
   "source": [
    "from langchain_huggingface import ChatHuggingFace, HuggingFaceEndpoint\n",
    "from langgraph.graph import StateGraph,START, END\n",
    "from typing import TypedDict, Annotated\n",
    "from langchain_core.messages import HumanMessage, BaseMessage\n",
    "from langgraph.checkpoint.memory import InMemorySaver\n",
    "from pydantic import BaseModel, Field\n",
    "import os\n",
    "from dotenv import load_dotenv\n",
    "\n",
    "\n",
    "load_dotenv()"
   ]
  },
  {
   "cell_type": "code",
   "execution_count": 2,
   "id": "894bb835",
   "metadata": {},
   "outputs": [],
   "source": [
    "hugging_face_llm = HuggingFaceEndpoint(\n",
    "    # repo_id=\"mistralai/Mistral-7B-Instruct-v0.2\",\n",
    "    repo_id=\"meta-llama/Meta-Llama-3-8B-Instruct\",\n",
    "    huggingfacehub_api_token=os.getenv(\"HUGGINGFACEHUB_API_TOKEN\"),\n",
    "    task=\"conversational\", \n",
    "    max_new_tokens=512,\n",
    "    do_sample=False,\n",
    "    repetition_penalty=1.03\n",
    ")\n",
    "llm = ChatHuggingFace(llm=hugging_face_llm)"
   ]
  },
  {
   "cell_type": "code",
   "execution_count": 3,
   "id": "2db4aabc",
   "metadata": {},
   "outputs": [],
   "source": [
    "class JokeState(TypedDict):\n",
    "\n",
    "    topic: str\n",
    "    joke: str\n",
    "    explanation: str"
   ]
  },
  {
   "cell_type": "code",
   "execution_count": 4,
   "id": "bd227cb3",
   "metadata": {},
   "outputs": [],
   "source": [
    "def generate_joke(state: JokeState):\n",
    "\n",
    "    prompt = f'generate a joke on the topic {state[\"topic\"]}'\n",
    "    response = llm.invoke(prompt).content\n",
    "\n",
    "    return {'joke': response}"
   ]
  },
  {
   "cell_type": "code",
   "execution_count": 5,
   "id": "b1c0a617",
   "metadata": {},
   "outputs": [],
   "source": [
    "def generate_explanation(state: JokeState):\n",
    "\n",
    "    prompt = f'write an explanation for the joke - {state[\"joke\"]}'\n",
    "    response = llm.invoke(prompt).content\n",
    "\n",
    "    return {'explanation': response}"
   ]
  },
  {
   "cell_type": "code",
   "execution_count": 6,
   "id": "d9e9218b",
   "metadata": {},
   "outputs": [],
   "source": [
    "graph = StateGraph(JokeState)\n",
    "\n",
    "graph.add_node('generate_joke', generate_joke)\n",
    "graph.add_node('generate_explanation', generate_explanation)\n",
    "\n",
    "graph.add_edge(START, 'generate_joke')\n",
    "graph.add_edge('generate_joke', 'generate_explanation')\n",
    "graph.add_edge('generate_explanation', END)\n",
    "\n",
    "checkpointer = InMemorySaver()\n",
    "\n",
    "workflow = graph.compile(checkpointer=checkpointer)"
   ]
  },
  {
   "cell_type": "code",
   "execution_count": 7,
   "id": "5cc6ee90",
   "metadata": {},
   "outputs": [
    {
     "data": {
      "text/plain": [
       "{'topic': 'pizza',\n",
       " 'joke': 'Why did the pizza go to therapy? \\n\\nBecause it was feeling crusty.',\n",
       " 'explanation': 'The joke \"Why did the pizza go to therapy? Because it was feeling crusty\" is a play on words, relying on the double meaning of the term \"crusty.\"\\n\\nIn this context, the word \"crusty\" has a literal meaning, referring to the crunchy outer layer of a pizza, known as the crust. However, the phrase \"feeling crusty\" also has an idiomatic meaning, equivalent to feeling irritable, grumpy, or having a short temper.\\n\\nThe punchline of the joke is a clever twist on the expected answer, as the listener is initially led to believe that the pizza is seeking therapy due to being literally made of crust. Instead, the joke subverts this expectation with a more humorous and relatable reason, implying that the pizza is feeling upset or annoyed, much like a person who might visit a therapist for emotional issues.\\n\\nThe joke relies on the listener making the connection between the literal and figurative meanings of \"crusty,\" creating a sense of wordplay and cleverness that adds to the humor.'}"
      ]
     },
     "execution_count": 7,
     "metadata": {},
     "output_type": "execute_result"
    }
   ],
   "source": [
    "config1 = {\"configurable\": {\"thread_id\": \"1\"}}\n",
    "workflow.invoke({'topic':'pizza'}, config=config1)"
   ]
  },
  {
   "cell_type": "code",
   "execution_count": 8,
   "id": "2d8af884",
   "metadata": {},
   "outputs": [
    {
     "data": {
      "text/plain": [
       "StateSnapshot(values={'topic': 'pizza', 'joke': 'Why did the pizza go to therapy? \\n\\nBecause it was feeling crusty.', 'explanation': 'The joke \"Why did the pizza go to therapy? Because it was feeling crusty\" is a play on words, relying on the double meaning of the term \"crusty.\"\\n\\nIn this context, the word \"crusty\" has a literal meaning, referring to the crunchy outer layer of a pizza, known as the crust. However, the phrase \"feeling crusty\" also has an idiomatic meaning, equivalent to feeling irritable, grumpy, or having a short temper.\\n\\nThe punchline of the joke is a clever twist on the expected answer, as the listener is initially led to believe that the pizza is seeking therapy due to being literally made of crust. Instead, the joke subverts this expectation with a more humorous and relatable reason, implying that the pizza is feeling upset or annoyed, much like a person who might visit a therapist for emotional issues.\\n\\nThe joke relies on the listener making the connection between the literal and figurative meanings of \"crusty,\" creating a sense of wordplay and cleverness that adds to the humor.'}, next=(), config={'configurable': {'thread_id': '1', 'checkpoint_ns': '', 'checkpoint_id': '1f0899ef-8b2a-63be-8002-67336b0edbfc'}}, metadata={'source': 'loop', 'step': 2, 'parents': {}}, created_at='2025-09-04T14:53:51.878012+00:00', parent_config={'configurable': {'thread_id': '1', 'checkpoint_ns': '', 'checkpoint_id': '1f0899ef-681b-6d3c-8001-cf129ed02e55'}}, tasks=(), interrupts=())"
      ]
     },
     "execution_count": 8,
     "metadata": {},
     "output_type": "execute_result"
    }
   ],
   "source": [
    "workflow.get_state(config1)"
   ]
  },
  {
   "cell_type": "code",
   "execution_count": 9,
   "id": "dc0340ae",
   "metadata": {},
   "outputs": [
    {
     "data": {
      "text/plain": [
       "[StateSnapshot(values={'topic': 'pizza', 'joke': 'Why did the pizza go to therapy? \\n\\nBecause it was feeling crusty.', 'explanation': 'The joke \"Why did the pizza go to therapy? Because it was feeling crusty\" is a play on words, relying on the double meaning of the term \"crusty.\"\\n\\nIn this context, the word \"crusty\" has a literal meaning, referring to the crunchy outer layer of a pizza, known as the crust. However, the phrase \"feeling crusty\" also has an idiomatic meaning, equivalent to feeling irritable, grumpy, or having a short temper.\\n\\nThe punchline of the joke is a clever twist on the expected answer, as the listener is initially led to believe that the pizza is seeking therapy due to being literally made of crust. Instead, the joke subverts this expectation with a more humorous and relatable reason, implying that the pizza is feeling upset or annoyed, much like a person who might visit a therapist for emotional issues.\\n\\nThe joke relies on the listener making the connection between the literal and figurative meanings of \"crusty,\" creating a sense of wordplay and cleverness that adds to the humor.'}, next=(), config={'configurable': {'thread_id': '1', 'checkpoint_ns': '', 'checkpoint_id': '1f0899ef-8b2a-63be-8002-67336b0edbfc'}}, metadata={'source': 'loop', 'step': 2, 'parents': {}}, created_at='2025-09-04T14:53:51.878012+00:00', parent_config={'configurable': {'thread_id': '1', 'checkpoint_ns': '', 'checkpoint_id': '1f0899ef-681b-6d3c-8001-cf129ed02e55'}}, tasks=(), interrupts=()),\n",
       " StateSnapshot(values={'topic': 'pizza', 'joke': 'Why did the pizza go to therapy? \\n\\nBecause it was feeling crusty.'}, next=('generate_explanation',), config={'configurable': {'thread_id': '1', 'checkpoint_ns': '', 'checkpoint_id': '1f0899ef-681b-6d3c-8001-cf129ed02e55'}}, metadata={'source': 'loop', 'step': 1, 'parents': {}}, created_at='2025-09-04T14:53:48.202097+00:00', parent_config={'configurable': {'thread_id': '1', 'checkpoint_ns': '', 'checkpoint_id': '1f0899ef-5c27-6e86-8000-b59de6ee2013'}}, tasks=(PregelTask(id='67681e4e-5693-f8b2-89c2-c664c1fd5b4c', name='generate_explanation', path=('__pregel_pull', 'generate_explanation'), error=None, interrupts=(), state=None, result={'explanation': 'The joke \"Why did the pizza go to therapy? Because it was feeling crusty\" is a play on words, relying on the double meaning of the term \"crusty.\"\\n\\nIn this context, the word \"crusty\" has a literal meaning, referring to the crunchy outer layer of a pizza, known as the crust. However, the phrase \"feeling crusty\" also has an idiomatic meaning, equivalent to feeling irritable, grumpy, or having a short temper.\\n\\nThe punchline of the joke is a clever twist on the expected answer, as the listener is initially led to believe that the pizza is seeking therapy due to being literally made of crust. Instead, the joke subverts this expectation with a more humorous and relatable reason, implying that the pizza is feeling upset or annoyed, much like a person who might visit a therapist for emotional issues.\\n\\nThe joke relies on the listener making the connection between the literal and figurative meanings of \"crusty,\" creating a sense of wordplay and cleverness that adds to the humor.'}),), interrupts=()),\n",
       " StateSnapshot(values={'topic': 'pizza'}, next=('generate_joke',), config={'configurable': {'thread_id': '1', 'checkpoint_ns': '', 'checkpoint_id': '1f0899ef-5c27-6e86-8000-b59de6ee2013'}}, metadata={'source': 'loop', 'step': 0, 'parents': {}}, created_at='2025-09-04T14:53:46.948762+00:00', parent_config={'configurable': {'thread_id': '1', 'checkpoint_ns': '', 'checkpoint_id': '1f0899ef-5c25-6adc-bfff-8df0eccd6ac6'}}, tasks=(PregelTask(id='8aa48b45-24b3-a6ab-c46e-5dda449748c0', name='generate_joke', path=('__pregel_pull', 'generate_joke'), error=None, interrupts=(), state=None, result={'joke': 'Why did the pizza go to therapy? \\n\\nBecause it was feeling crusty.'}),), interrupts=()),\n",
       " StateSnapshot(values={}, next=('__start__',), config={'configurable': {'thread_id': '1', 'checkpoint_ns': '', 'checkpoint_id': '1f0899ef-5c25-6adc-bfff-8df0eccd6ac6'}}, metadata={'source': 'input', 'step': -1, 'parents': {}}, created_at='2025-09-04T14:53:46.947845+00:00', parent_config=None, tasks=(PregelTask(id='7a8ed940-1640-ddf3-0c86-d968de66ae67', name='__start__', path=('__pregel_pull', '__start__'), error=None, interrupts=(), state=None, result={'topic': 'pizza'}),), interrupts=())]"
      ]
     },
     "execution_count": 9,
     "metadata": {},
     "output_type": "execute_result"
    }
   ],
   "source": [
    "list(workflow.get_state_history(config1))"
   ]
  },
  {
   "cell_type": "code",
   "execution_count": 10,
   "id": "36b94c22",
   "metadata": {},
   "outputs": [
    {
     "data": {
      "text/plain": [
       "{'topic': 'pasta',\n",
       " 'joke': 'Why did the spaghetti go to therapy? \\n\\nIt was feeling a little \"twisted.\"',\n",
       " 'explanation': 'This joke is a play on words, using a common idiomatic expression to create a pun. The phrase \"feeling a little twisted\" has two separate meanings:\\n\\n1.  In a literal sense, spaghetti can be twisted or turned while it\\'s being cooked to create a certain texture or shape.\\n2.  In an idiomatic sense, \"feeling twisted\" is a common phrase used to describe someone who is experiencing mental health issues or emotional distress, often indicated by feeling confused, anxious, or unstable.\\n\\nThe joke relies on the clever use of a double meaning to create humor. It takes the common phrase \"feeling a little twisted\" and applies it to a situation where the subject (spaghetti) can literally be twisted, but also implies that it\\'s experiencing emotional distress, hence the need for therapy.\\n\\nThis type of wordplay is a classic example of a pun, which is a form of humor that exploits multiple meanings of a word or phrase to create a humorous effect. The joke requires a quick mental shift to understand the double meaning, which creates the surprise and delight that comes with a well-crafted pun.'}"
      ]
     },
     "execution_count": 10,
     "metadata": {},
     "output_type": "execute_result"
    }
   ],
   "source": [
    "config2 = {\"configurable\": {\"thread_id\": \"2\"}}\n",
    "workflow.invoke({'topic':'pasta'}, config=config2)"
   ]
  },
  {
   "cell_type": "code",
   "execution_count": 11,
   "id": "904f2bf4",
   "metadata": {},
   "outputs": [
    {
     "data": {
      "text/plain": [
       "StateSnapshot(values={'topic': 'pizza', 'joke': 'Why did the pizza go to therapy? \\n\\nBecause it was feeling crusty.', 'explanation': 'The joke \"Why did the pizza go to therapy? Because it was feeling crusty\" is a play on words, relying on the double meaning of the term \"crusty.\"\\n\\nIn this context, the word \"crusty\" has a literal meaning, referring to the crunchy outer layer of a pizza, known as the crust. However, the phrase \"feeling crusty\" also has an idiomatic meaning, equivalent to feeling irritable, grumpy, or having a short temper.\\n\\nThe punchline of the joke is a clever twist on the expected answer, as the listener is initially led to believe that the pizza is seeking therapy due to being literally made of crust. Instead, the joke subverts this expectation with a more humorous and relatable reason, implying that the pizza is feeling upset or annoyed, much like a person who might visit a therapist for emotional issues.\\n\\nThe joke relies on the listener making the connection between the literal and figurative meanings of \"crusty,\" creating a sense of wordplay and cleverness that adds to the humor.'}, next=(), config={'configurable': {'thread_id': '1', 'checkpoint_ns': '', 'checkpoint_id': '1f0899ef-8b2a-63be-8002-67336b0edbfc'}}, metadata={'source': 'loop', 'step': 2, 'parents': {}}, created_at='2025-09-04T14:53:51.878012+00:00', parent_config={'configurable': {'thread_id': '1', 'checkpoint_ns': '', 'checkpoint_id': '1f0899ef-681b-6d3c-8001-cf129ed02e55'}}, tasks=(), interrupts=())"
      ]
     },
     "execution_count": 11,
     "metadata": {},
     "output_type": "execute_result"
    }
   ],
   "source": [
    "workflow.get_state(config1)"
   ]
  },
  {
   "cell_type": "code",
   "execution_count": null,
   "id": "6d2e2016",
   "metadata": {},
   "outputs": [
    {
     "data": {
      "text/plain": [
       "[StateSnapshot(values={'topic': 'pizza', 'joke': 'Why did the pizza go to therapy? \\n\\nBecause it was feeling crusty.', 'explanation': 'The joke \"Why did the pizza go to therapy? Because it was feeling crusty\" is a play on words, relying on the double meaning of the term \"crusty.\"\\n\\nIn this context, the word \"crusty\" has a literal meaning, referring to the crunchy outer layer of a pizza, known as the crust. However, the phrase \"feeling crusty\" also has an idiomatic meaning, equivalent to feeling irritable, grumpy, or having a short temper.\\n\\nThe punchline of the joke is a clever twist on the expected answer, as the listener is initially led to believe that the pizza is seeking therapy due to being literally made of crust. Instead, the joke subverts this expectation with a more humorous and relatable reason, implying that the pizza is feeling upset or annoyed, much like a person who might visit a therapist for emotional issues.\\n\\nThe joke relies on the listener making the connection between the literal and figurative meanings of \"crusty,\" creating a sense of wordplay and cleverness that adds to the humor.'}, next=(), config={'configurable': {'thread_id': '1', 'checkpoint_ns': '', 'checkpoint_id': '1f0899ef-8b2a-63be-8002-67336b0edbfc'}}, metadata={'source': 'loop', 'step': 2, 'parents': {}}, created_at='2025-09-04T14:53:51.878012+00:00', parent_config={'configurable': {'thread_id': '1', 'checkpoint_ns': '', 'checkpoint_id': '1f0899ef-681b-6d3c-8001-cf129ed02e55'}}, tasks=(), interrupts=()),\n",
       " StateSnapshot(values={'topic': 'pizza', 'joke': 'Why did the pizza go to therapy? \\n\\nBecause it was feeling crusty.'}, next=('generate_explanation',), config={'configurable': {'thread_id': '1', 'checkpoint_ns': '', 'checkpoint_id': '1f0899ef-681b-6d3c-8001-cf129ed02e55'}}, metadata={'source': 'loop', 'step': 1, 'parents': {}}, created_at='2025-09-04T14:53:48.202097+00:00', parent_config={'configurable': {'thread_id': '1', 'checkpoint_ns': '', 'checkpoint_id': '1f0899ef-5c27-6e86-8000-b59de6ee2013'}}, tasks=(PregelTask(id='67681e4e-5693-f8b2-89c2-c664c1fd5b4c', name='generate_explanation', path=('__pregel_pull', 'generate_explanation'), error=None, interrupts=(), state=None, result={'explanation': 'The joke \"Why did the pizza go to therapy? Because it was feeling crusty\" is a play on words, relying on the double meaning of the term \"crusty.\"\\n\\nIn this context, the word \"crusty\" has a literal meaning, referring to the crunchy outer layer of a pizza, known as the crust. However, the phrase \"feeling crusty\" also has an idiomatic meaning, equivalent to feeling irritable, grumpy, or having a short temper.\\n\\nThe punchline of the joke is a clever twist on the expected answer, as the listener is initially led to believe that the pizza is seeking therapy due to being literally made of crust. Instead, the joke subverts this expectation with a more humorous and relatable reason, implying that the pizza is feeling upset or annoyed, much like a person who might visit a therapist for emotional issues.\\n\\nThe joke relies on the listener making the connection between the literal and figurative meanings of \"crusty,\" creating a sense of wordplay and cleverness that adds to the humor.'}),), interrupts=()),\n",
       " StateSnapshot(values={'topic': 'pizza'}, next=('generate_joke',), config={'configurable': {'thread_id': '1', 'checkpoint_ns': '', 'checkpoint_id': '1f0899ef-5c27-6e86-8000-b59de6ee2013'}}, metadata={'source': 'loop', 'step': 0, 'parents': {}}, created_at='2025-09-04T14:53:46.948762+00:00', parent_config={'configurable': {'thread_id': '1', 'checkpoint_ns': '', 'checkpoint_id': '1f0899ef-5c25-6adc-bfff-8df0eccd6ac6'}}, tasks=(PregelTask(id='8aa48b45-24b3-a6ab-c46e-5dda449748c0', name='generate_joke', path=('__pregel_pull', 'generate_joke'), error=None, interrupts=(), state=None, result={'joke': 'Why did the pizza go to therapy? \\n\\nBecause it was feeling crusty.'}),), interrupts=()),\n",
       " StateSnapshot(values={}, next=('__start__',), config={'configurable': {'thread_id': '1', 'checkpoint_ns': '', 'checkpoint_id': '1f0899ef-5c25-6adc-bfff-8df0eccd6ac6'}}, metadata={'source': 'input', 'step': -1, 'parents': {}}, created_at='2025-09-04T14:53:46.947845+00:00', parent_config=None, tasks=(PregelTask(id='7a8ed940-1640-ddf3-0c86-d968de66ae67', name='__start__', path=('__pregel_pull', '__start__'), error=None, interrupts=(), state=None, result={'topic': 'pizza'}),), interrupts=())]"
      ]
     },
     "execution_count": 12,
     "metadata": {},
     "output_type": "execute_result"
    }
   ],
   "source": [
    "list(workflow.get_state_history(config1))   "
   ]
  },
  {
   "cell_type": "markdown",
   "id": "76d5ed0a",
   "metadata": {},
   "source": [
    "### Time Travel"
   ]
  },
  {
   "cell_type": "code",
   "execution_count": 15,
   "id": "7943b787",
   "metadata": {},
   "outputs": [
    {
     "data": {
      "text/plain": [
       "StateSnapshot(values={'topic': 'pizza', 'joke': 'Why did the pizza go to therapy? \\n\\nBecause it was feeling crusty.'}, next=('generate_explanation',), config={'configurable': {'thread_id': '1', 'checkpoint_id': '1f0899ef-681b-6d3c-8001-cf129ed02e55'}}, metadata={'source': 'loop', 'step': 1, 'parents': {}}, created_at='2025-09-04T14:53:48.202097+00:00', parent_config={'configurable': {'thread_id': '1', 'checkpoint_ns': '', 'checkpoint_id': '1f0899ef-5c27-6e86-8000-b59de6ee2013'}}, tasks=(PregelTask(id='67681e4e-5693-f8b2-89c2-c664c1fd5b4c', name='generate_explanation', path=('__pregel_pull', 'generate_explanation'), error=None, interrupts=(), state=None, result={'explanation': 'The joke \"Why did the pizza go to therapy? Because it was feeling crusty\" is a play on words, relying on the double meaning of the term \"crusty.\"\\n\\nIn this context, the word \"crusty\" has a literal meaning, referring to the crunchy outer layer of a pizza, known as the crust. However, the phrase \"feeling crusty\" also has an idiomatic meaning, equivalent to feeling irritable, grumpy, or having a short temper.\\n\\nThe punchline of the joke is a clever twist on the expected answer, as the listener is initially led to believe that the pizza is seeking therapy due to being literally made of crust. Instead, the joke subverts this expectation with a more humorous and relatable reason, implying that the pizza is feeling upset or annoyed, much like a person who might visit a therapist for emotional issues.\\n\\nThe joke relies on the listener making the connection between the literal and figurative meanings of \"crusty,\" creating a sense of wordplay and cleverness that adds to the humor.'}),), interrupts=())"
      ]
     },
     "execution_count": 15,
     "metadata": {},
     "output_type": "execute_result"
    }
   ],
   "source": [
    "workflow.get_state({\"configurable\": {\"thread_id\": \"1\", \"checkpoint_id\": \"1f0899ef-681b-6d3c-8001-cf129ed02e55\"}})"
   ]
  },
  {
   "cell_type": "code",
   "execution_count": 16,
   "id": "dc189c6c",
   "metadata": {},
   "outputs": [
    {
     "data": {
      "text/plain": [
       "{'topic': 'pizza',\n",
       " 'joke': 'Why did the pizza go to therapy? \\n\\nBecause it was feeling crusty.',\n",
       " 'explanation': 'The joke relies on a play on words to create humor. The word \"crusty\" has a double meaning here:\\n\\n1.  In a literal sense, pizza dough is crusty, referring to its crispy outer layer.\\n2.  In an idiomatic sense, \"feeling crusty\" is a colloquial expression that means being in a bad mood or irritable, similar to feeling \"grumpy\" or \"testy.\"\\n\\nThe joke sets up a scenario where a pizza (an inanimate object) is going to therapy, implying that it has emotional issues. The punchline \"because it was feeling crusty\" is a clever connection between the pizza\\'s physical properties (crusty crust) and the idiomatic expression for being in a bad mood. This unexpected twist creates the humor in the joke, making it a clever play on words.'}"
      ]
     },
     "execution_count": 16,
     "metadata": {},
     "output_type": "execute_result"
    }
   ],
   "source": [
    "workflow.invoke(None, {\"configurable\": {\"thread_id\": \"1\", \"checkpoint_id\": \"1f0899ef-681b-6d3c-8001-cf129ed02e55\"}})"
   ]
  },
  {
   "cell_type": "code",
   "execution_count": 17,
   "id": "da9d64e7",
   "metadata": {},
   "outputs": [
    {
     "data": {
      "text/plain": [
       "[StateSnapshot(values={'topic': 'pizza', 'joke': 'Why did the pizza go to therapy? \\n\\nBecause it was feeling crusty.', 'explanation': 'The joke relies on a play on words to create humor. The word \"crusty\" has a double meaning here:\\n\\n1.  In a literal sense, pizza dough is crusty, referring to its crispy outer layer.\\n2.  In an idiomatic sense, \"feeling crusty\" is a colloquial expression that means being in a bad mood or irritable, similar to feeling \"grumpy\" or \"testy.\"\\n\\nThe joke sets up a scenario where a pizza (an inanimate object) is going to therapy, implying that it has emotional issues. The punchline \"because it was feeling crusty\" is a clever connection between the pizza\\'s physical properties (crusty crust) and the idiomatic expression for being in a bad mood. This unexpected twist creates the humor in the joke, making it a clever play on words.'}, next=(), config={'configurable': {'thread_id': '1', 'checkpoint_ns': '', 'checkpoint_id': '1f089a16-87d4-68d2-8002-0b93a292f1d1'}}, metadata={'source': 'loop', 'step': 2, 'parents': {}}, created_at='2025-09-04T15:11:18.426626+00:00', parent_config={'configurable': {'thread_id': '1', 'checkpoint_ns': '', 'checkpoint_id': '1f0899ef-681b-6d3c-8001-cf129ed02e55'}}, tasks=(), interrupts=()),\n",
       " StateSnapshot(values={'topic': 'pizza', 'joke': 'Why did the pizza go to therapy? \\n\\nBecause it was feeling crusty.', 'explanation': 'The joke \"Why did the pizza go to therapy? Because it was feeling crusty\" is a play on words, relying on the double meaning of the term \"crusty.\"\\n\\nIn this context, the word \"crusty\" has a literal meaning, referring to the crunchy outer layer of a pizza, known as the crust. However, the phrase \"feeling crusty\" also has an idiomatic meaning, equivalent to feeling irritable, grumpy, or having a short temper.\\n\\nThe punchline of the joke is a clever twist on the expected answer, as the listener is initially led to believe that the pizza is seeking therapy due to being literally made of crust. Instead, the joke subverts this expectation with a more humorous and relatable reason, implying that the pizza is feeling upset or annoyed, much like a person who might visit a therapist for emotional issues.\\n\\nThe joke relies on the listener making the connection between the literal and figurative meanings of \"crusty,\" creating a sense of wordplay and cleverness that adds to the humor.'}, next=(), config={'configurable': {'thread_id': '1', 'checkpoint_ns': '', 'checkpoint_id': '1f0899ef-8b2a-63be-8002-67336b0edbfc'}}, metadata={'source': 'loop', 'step': 2, 'parents': {}}, created_at='2025-09-04T14:53:51.878012+00:00', parent_config={'configurable': {'thread_id': '1', 'checkpoint_ns': '', 'checkpoint_id': '1f0899ef-681b-6d3c-8001-cf129ed02e55'}}, tasks=(), interrupts=()),\n",
       " StateSnapshot(values={'topic': 'pizza', 'joke': 'Why did the pizza go to therapy? \\n\\nBecause it was feeling crusty.'}, next=('generate_explanation',), config={'configurable': {'thread_id': '1', 'checkpoint_ns': '', 'checkpoint_id': '1f0899ef-681b-6d3c-8001-cf129ed02e55'}}, metadata={'source': 'loop', 'step': 1, 'parents': {}}, created_at='2025-09-04T14:53:48.202097+00:00', parent_config={'configurable': {'thread_id': '1', 'checkpoint_ns': '', 'checkpoint_id': '1f0899ef-5c27-6e86-8000-b59de6ee2013'}}, tasks=(PregelTask(id='67681e4e-5693-f8b2-89c2-c664c1fd5b4c', name='generate_explanation', path=('__pregel_pull', 'generate_explanation'), error=None, interrupts=(), state=None, result={'explanation': 'The joke \"Why did the pizza go to therapy? Because it was feeling crusty\" is a play on words, relying on the double meaning of the term \"crusty.\"\\n\\nIn this context, the word \"crusty\" has a literal meaning, referring to the crunchy outer layer of a pizza, known as the crust. However, the phrase \"feeling crusty\" also has an idiomatic meaning, equivalent to feeling irritable, grumpy, or having a short temper.\\n\\nThe punchline of the joke is a clever twist on the expected answer, as the listener is initially led to believe that the pizza is seeking therapy due to being literally made of crust. Instead, the joke subverts this expectation with a more humorous and relatable reason, implying that the pizza is feeling upset or annoyed, much like a person who might visit a therapist for emotional issues.\\n\\nThe joke relies on the listener making the connection between the literal and figurative meanings of \"crusty,\" creating a sense of wordplay and cleverness that adds to the humor.'}),), interrupts=()),\n",
       " StateSnapshot(values={'topic': 'pizza'}, next=('generate_joke',), config={'configurable': {'thread_id': '1', 'checkpoint_ns': '', 'checkpoint_id': '1f0899ef-5c27-6e86-8000-b59de6ee2013'}}, metadata={'source': 'loop', 'step': 0, 'parents': {}}, created_at='2025-09-04T14:53:46.948762+00:00', parent_config={'configurable': {'thread_id': '1', 'checkpoint_ns': '', 'checkpoint_id': '1f0899ef-5c25-6adc-bfff-8df0eccd6ac6'}}, tasks=(PregelTask(id='8aa48b45-24b3-a6ab-c46e-5dda449748c0', name='generate_joke', path=('__pregel_pull', 'generate_joke'), error=None, interrupts=(), state=None, result={'joke': 'Why did the pizza go to therapy? \\n\\nBecause it was feeling crusty.'}),), interrupts=()),\n",
       " StateSnapshot(values={}, next=('__start__',), config={'configurable': {'thread_id': '1', 'checkpoint_ns': '', 'checkpoint_id': '1f0899ef-5c25-6adc-bfff-8df0eccd6ac6'}}, metadata={'source': 'input', 'step': -1, 'parents': {}}, created_at='2025-09-04T14:53:46.947845+00:00', parent_config=None, tasks=(PregelTask(id='7a8ed940-1640-ddf3-0c86-d968de66ae67', name='__start__', path=('__pregel_pull', '__start__'), error=None, interrupts=(), state=None, result={'topic': 'pizza'}),), interrupts=())]"
      ]
     },
     "execution_count": 17,
     "metadata": {},
     "output_type": "execute_result"
    }
   ],
   "source": [
    "list(workflow.get_state_history(config1))"
   ]
  },
  {
   "cell_type": "markdown",
   "id": "b53b21aa",
   "metadata": {},
   "source": [
    "### Updating State"
   ]
  },
  {
   "cell_type": "code",
   "execution_count": 18,
   "id": "42c64584",
   "metadata": {},
   "outputs": [
    {
     "data": {
      "text/plain": [
       "{'configurable': {'thread_id': '1',\n",
       "  'checkpoint_ns': '',\n",
       "  'checkpoint_id': '1f089a16-d4e6-6a26-8000-d23d98e163f0'}}"
      ]
     },
     "execution_count": 18,
     "metadata": {},
     "output_type": "execute_result"
    }
   ],
   "source": [
    "workflow.update_state({\"configurable\": {\"thread_id\": \"1\", \"checkpoint_id\": \"1f0899c9-bcaf-63ce-bfff-6da213c76424\", \"checkpoint_ns\": \"\"}}, {'topic':'samosa'})"
   ]
  },
  {
   "cell_type": "code",
   "execution_count": 19,
   "id": "0f052003",
   "metadata": {},
   "outputs": [
    {
     "data": {
      "text/plain": [
       "[StateSnapshot(values={'topic': 'samosa'}, next=('generate_joke',), config={'configurable': {'thread_id': '1', 'checkpoint_ns': '', 'checkpoint_id': '1f089a16-d4e6-6a26-8000-d23d98e163f0'}}, metadata={'source': 'update', 'step': 0, 'parents': {}}, created_at='2025-09-04T15:11:26.508076+00:00', parent_config={'configurable': {'thread_id': '1', 'checkpoint_ns': '', 'checkpoint_id': '1f0899c9-bcaf-63ce-bfff-6da213c76424'}}, tasks=(PregelTask(id='230261ad-834a-7678-df79-4dac4ce7e2f6', name='generate_joke', path=('__pregel_pull', 'generate_joke'), error=None, interrupts=(), state=None, result=None),), interrupts=()),\n",
       " StateSnapshot(values={'topic': 'pizza', 'joke': 'Why did the pizza go to therapy? \\n\\nBecause it was feeling crusty.', 'explanation': 'The joke relies on a play on words to create humor. The word \"crusty\" has a double meaning here:\\n\\n1.  In a literal sense, pizza dough is crusty, referring to its crispy outer layer.\\n2.  In an idiomatic sense, \"feeling crusty\" is a colloquial expression that means being in a bad mood or irritable, similar to feeling \"grumpy\" or \"testy.\"\\n\\nThe joke sets up a scenario where a pizza (an inanimate object) is going to therapy, implying that it has emotional issues. The punchline \"because it was feeling crusty\" is a clever connection between the pizza\\'s physical properties (crusty crust) and the idiomatic expression for being in a bad mood. This unexpected twist creates the humor in the joke, making it a clever play on words.'}, next=(), config={'configurable': {'thread_id': '1', 'checkpoint_ns': '', 'checkpoint_id': '1f089a16-87d4-68d2-8002-0b93a292f1d1'}}, metadata={'source': 'loop', 'step': 2, 'parents': {}}, created_at='2025-09-04T15:11:18.426626+00:00', parent_config={'configurable': {'thread_id': '1', 'checkpoint_ns': '', 'checkpoint_id': '1f0899ef-681b-6d3c-8001-cf129ed02e55'}}, tasks=(), interrupts=()),\n",
       " StateSnapshot(values={'topic': 'pizza', 'joke': 'Why did the pizza go to therapy? \\n\\nBecause it was feeling crusty.', 'explanation': 'The joke \"Why did the pizza go to therapy? Because it was feeling crusty\" is a play on words, relying on the double meaning of the term \"crusty.\"\\n\\nIn this context, the word \"crusty\" has a literal meaning, referring to the crunchy outer layer of a pizza, known as the crust. However, the phrase \"feeling crusty\" also has an idiomatic meaning, equivalent to feeling irritable, grumpy, or having a short temper.\\n\\nThe punchline of the joke is a clever twist on the expected answer, as the listener is initially led to believe that the pizza is seeking therapy due to being literally made of crust. Instead, the joke subverts this expectation with a more humorous and relatable reason, implying that the pizza is feeling upset or annoyed, much like a person who might visit a therapist for emotional issues.\\n\\nThe joke relies on the listener making the connection between the literal and figurative meanings of \"crusty,\" creating a sense of wordplay and cleverness that adds to the humor.'}, next=(), config={'configurable': {'thread_id': '1', 'checkpoint_ns': '', 'checkpoint_id': '1f0899ef-8b2a-63be-8002-67336b0edbfc'}}, metadata={'source': 'loop', 'step': 2, 'parents': {}}, created_at='2025-09-04T14:53:51.878012+00:00', parent_config={'configurable': {'thread_id': '1', 'checkpoint_ns': '', 'checkpoint_id': '1f0899ef-681b-6d3c-8001-cf129ed02e55'}}, tasks=(), interrupts=()),\n",
       " StateSnapshot(values={'topic': 'pizza', 'joke': 'Why did the pizza go to therapy? \\n\\nBecause it was feeling crusty.'}, next=('generate_explanation',), config={'configurable': {'thread_id': '1', 'checkpoint_ns': '', 'checkpoint_id': '1f0899ef-681b-6d3c-8001-cf129ed02e55'}}, metadata={'source': 'loop', 'step': 1, 'parents': {}}, created_at='2025-09-04T14:53:48.202097+00:00', parent_config={'configurable': {'thread_id': '1', 'checkpoint_ns': '', 'checkpoint_id': '1f0899ef-5c27-6e86-8000-b59de6ee2013'}}, tasks=(PregelTask(id='67681e4e-5693-f8b2-89c2-c664c1fd5b4c', name='generate_explanation', path=('__pregel_pull', 'generate_explanation'), error=None, interrupts=(), state=None, result={'explanation': 'The joke \"Why did the pizza go to therapy? Because it was feeling crusty\" is a play on words, relying on the double meaning of the term \"crusty.\"\\n\\nIn this context, the word \"crusty\" has a literal meaning, referring to the crunchy outer layer of a pizza, known as the crust. However, the phrase \"feeling crusty\" also has an idiomatic meaning, equivalent to feeling irritable, grumpy, or having a short temper.\\n\\nThe punchline of the joke is a clever twist on the expected answer, as the listener is initially led to believe that the pizza is seeking therapy due to being literally made of crust. Instead, the joke subverts this expectation with a more humorous and relatable reason, implying that the pizza is feeling upset or annoyed, much like a person who might visit a therapist for emotional issues.\\n\\nThe joke relies on the listener making the connection between the literal and figurative meanings of \"crusty,\" creating a sense of wordplay and cleverness that adds to the humor.'}),), interrupts=()),\n",
       " StateSnapshot(values={'topic': 'pizza'}, next=('generate_joke',), config={'configurable': {'thread_id': '1', 'checkpoint_ns': '', 'checkpoint_id': '1f0899ef-5c27-6e86-8000-b59de6ee2013'}}, metadata={'source': 'loop', 'step': 0, 'parents': {}}, created_at='2025-09-04T14:53:46.948762+00:00', parent_config={'configurable': {'thread_id': '1', 'checkpoint_ns': '', 'checkpoint_id': '1f0899ef-5c25-6adc-bfff-8df0eccd6ac6'}}, tasks=(PregelTask(id='8aa48b45-24b3-a6ab-c46e-5dda449748c0', name='generate_joke', path=('__pregel_pull', 'generate_joke'), error=None, interrupts=(), state=None, result={'joke': 'Why did the pizza go to therapy? \\n\\nBecause it was feeling crusty.'}),), interrupts=()),\n",
       " StateSnapshot(values={}, next=('__start__',), config={'configurable': {'thread_id': '1', 'checkpoint_ns': '', 'checkpoint_id': '1f0899ef-5c25-6adc-bfff-8df0eccd6ac6'}}, metadata={'source': 'input', 'step': -1, 'parents': {}}, created_at='2025-09-04T14:53:46.947845+00:00', parent_config=None, tasks=(PregelTask(id='7a8ed940-1640-ddf3-0c86-d968de66ae67', name='__start__', path=('__pregel_pull', '__start__'), error=None, interrupts=(), state=None, result={'topic': 'pizza'}),), interrupts=())]"
      ]
     },
     "execution_count": 19,
     "metadata": {},
     "output_type": "execute_result"
    }
   ],
   "source": [
    "list(workflow.get_state_history(config1))"
   ]
  },
  {
   "cell_type": "code",
   "execution_count": 20,
   "id": "5dbc9535",
   "metadata": {},
   "outputs": [
    {
     "data": {
      "text/plain": [
       "{'topic': 'samosa',\n",
       " 'joke': 'Why did the samosa go to therapy? \\n\\nBecause it was feeling a little \"wrapped up\" in its emotions.',\n",
       " 'explanation': 'This joke is a play on words that combines a common idiomatic expression with a literal characteristic of a samosa. \\n\\nA samosa is a type of Indian or Middle Eastern pastry that consists of a filling wrapped in a thin layer of dough. The phrase \"wrapped up\" has a broader meaning, implying that someone is overwhelmed or preoccupied with their emotions. \\n\\nIn this joke, the wordplay lies in the fact that the samosa, being literally wrapped in dough, takes on the idiomatic expression and gives it a new meaning. The punchline is funny because it takes a common expression and applies it to a specific characteristic of the samosa, creating a clever and unexpected connection between the setup and the punchline.'}"
      ]
     },
     "execution_count": 20,
     "metadata": {},
     "output_type": "execute_result"
    }
   ],
   "source": [
    "workflow.invoke(None, {\"configurable\": {\"thread_id\": \"1\", \"checkpoint_id\": \"1f089a16-d4e6-6a26-8000-d23d98e163f0\"}})"
   ]
  },
  {
   "cell_type": "code",
   "execution_count": 21,
   "id": "2eed28cd",
   "metadata": {},
   "outputs": [
    {
     "data": {
      "text/plain": [
       "[StateSnapshot(values={'topic': 'samosa', 'joke': 'Why did the samosa go to therapy? \\n\\nBecause it was feeling a little \"wrapped up\" in its emotions.', 'explanation': 'This joke is a play on words that combines a common idiomatic expression with a literal characteristic of a samosa. \\n\\nA samosa is a type of Indian or Middle Eastern pastry that consists of a filling wrapped in a thin layer of dough. The phrase \"wrapped up\" has a broader meaning, implying that someone is overwhelmed or preoccupied with their emotions. \\n\\nIn this joke, the wordplay lies in the fact that the samosa, being literally wrapped in dough, takes on the idiomatic expression and gives it a new meaning. The punchline is funny because it takes a common expression and applies it to a specific characteristic of the samosa, creating a clever and unexpected connection between the setup and the punchline.'}, next=(), config={'configurable': {'thread_id': '1', 'checkpoint_ns': '', 'checkpoint_id': '1f089a18-2bc3-653c-8002-2aac9547c4e2'}}, metadata={'source': 'loop', 'step': 2, 'parents': {}}, created_at='2025-09-04T15:12:02.459761+00:00', parent_config={'configurable': {'thread_id': '1', 'checkpoint_ns': '', 'checkpoint_id': '1f089a18-1165-6fe6-8001-5f01988b4473'}}, tasks=(), interrupts=()),\n",
       " StateSnapshot(values={'topic': 'samosa', 'joke': 'Why did the samosa go to therapy? \\n\\nBecause it was feeling a little \"wrapped up\" in its emotions.'}, next=('generate_explanation',), config={'configurable': {'thread_id': '1', 'checkpoint_ns': '', 'checkpoint_id': '1f089a18-1165-6fe6-8001-5f01988b4473'}}, metadata={'source': 'loop', 'step': 1, 'parents': {}}, created_at='2025-09-04T15:11:59.695234+00:00', parent_config={'configurable': {'thread_id': '1', 'checkpoint_ns': '', 'checkpoint_id': '1f089a16-d4e6-6a26-8000-d23d98e163f0'}}, tasks=(PregelTask(id='34958748-430a-9c53-1087-365f2ac6f49d', name='generate_explanation', path=('__pregel_pull', 'generate_explanation'), error=None, interrupts=(), state=None, result={'explanation': 'This joke is a play on words that combines a common idiomatic expression with a literal characteristic of a samosa. \\n\\nA samosa is a type of Indian or Middle Eastern pastry that consists of a filling wrapped in a thin layer of dough. The phrase \"wrapped up\" has a broader meaning, implying that someone is overwhelmed or preoccupied with their emotions. \\n\\nIn this joke, the wordplay lies in the fact that the samosa, being literally wrapped in dough, takes on the idiomatic expression and gives it a new meaning. The punchline is funny because it takes a common expression and applies it to a specific characteristic of the samosa, creating a clever and unexpected connection between the setup and the punchline.'}),), interrupts=()),\n",
       " StateSnapshot(values={'topic': 'samosa'}, next=('generate_joke',), config={'configurable': {'thread_id': '1', 'checkpoint_ns': '', 'checkpoint_id': '1f089a16-d4e6-6a26-8000-d23d98e163f0'}}, metadata={'source': 'update', 'step': 0, 'parents': {}}, created_at='2025-09-04T15:11:26.508076+00:00', parent_config={'configurable': {'thread_id': '1', 'checkpoint_ns': '', 'checkpoint_id': '1f0899c9-bcaf-63ce-bfff-6da213c76424'}}, tasks=(PregelTask(id='230261ad-834a-7678-df79-4dac4ce7e2f6', name='generate_joke', path=('__pregel_pull', 'generate_joke'), error=None, interrupts=(), state=None, result={'joke': 'Why did the samosa go to therapy? \\n\\nBecause it was feeling a little \"wrapped up\" in its emotions.'}),), interrupts=()),\n",
       " StateSnapshot(values={'topic': 'pizza', 'joke': 'Why did the pizza go to therapy? \\n\\nBecause it was feeling crusty.', 'explanation': 'The joke relies on a play on words to create humor. The word \"crusty\" has a double meaning here:\\n\\n1.  In a literal sense, pizza dough is crusty, referring to its crispy outer layer.\\n2.  In an idiomatic sense, \"feeling crusty\" is a colloquial expression that means being in a bad mood or irritable, similar to feeling \"grumpy\" or \"testy.\"\\n\\nThe joke sets up a scenario where a pizza (an inanimate object) is going to therapy, implying that it has emotional issues. The punchline \"because it was feeling crusty\" is a clever connection between the pizza\\'s physical properties (crusty crust) and the idiomatic expression for being in a bad mood. This unexpected twist creates the humor in the joke, making it a clever play on words.'}, next=(), config={'configurable': {'thread_id': '1', 'checkpoint_ns': '', 'checkpoint_id': '1f089a16-87d4-68d2-8002-0b93a292f1d1'}}, metadata={'source': 'loop', 'step': 2, 'parents': {}}, created_at='2025-09-04T15:11:18.426626+00:00', parent_config={'configurable': {'thread_id': '1', 'checkpoint_ns': '', 'checkpoint_id': '1f0899ef-681b-6d3c-8001-cf129ed02e55'}}, tasks=(), interrupts=()),\n",
       " StateSnapshot(values={'topic': 'pizza', 'joke': 'Why did the pizza go to therapy? \\n\\nBecause it was feeling crusty.', 'explanation': 'The joke \"Why did the pizza go to therapy? Because it was feeling crusty\" is a play on words, relying on the double meaning of the term \"crusty.\"\\n\\nIn this context, the word \"crusty\" has a literal meaning, referring to the crunchy outer layer of a pizza, known as the crust. However, the phrase \"feeling crusty\" also has an idiomatic meaning, equivalent to feeling irritable, grumpy, or having a short temper.\\n\\nThe punchline of the joke is a clever twist on the expected answer, as the listener is initially led to believe that the pizza is seeking therapy due to being literally made of crust. Instead, the joke subverts this expectation with a more humorous and relatable reason, implying that the pizza is feeling upset or annoyed, much like a person who might visit a therapist for emotional issues.\\n\\nThe joke relies on the listener making the connection between the literal and figurative meanings of \"crusty,\" creating a sense of wordplay and cleverness that adds to the humor.'}, next=(), config={'configurable': {'thread_id': '1', 'checkpoint_ns': '', 'checkpoint_id': '1f0899ef-8b2a-63be-8002-67336b0edbfc'}}, metadata={'source': 'loop', 'step': 2, 'parents': {}}, created_at='2025-09-04T14:53:51.878012+00:00', parent_config={'configurable': {'thread_id': '1', 'checkpoint_ns': '', 'checkpoint_id': '1f0899ef-681b-6d3c-8001-cf129ed02e55'}}, tasks=(), interrupts=()),\n",
       " StateSnapshot(values={'topic': 'pizza', 'joke': 'Why did the pizza go to therapy? \\n\\nBecause it was feeling crusty.'}, next=('generate_explanation',), config={'configurable': {'thread_id': '1', 'checkpoint_ns': '', 'checkpoint_id': '1f0899ef-681b-6d3c-8001-cf129ed02e55'}}, metadata={'source': 'loop', 'step': 1, 'parents': {}}, created_at='2025-09-04T14:53:48.202097+00:00', parent_config={'configurable': {'thread_id': '1', 'checkpoint_ns': '', 'checkpoint_id': '1f0899ef-5c27-6e86-8000-b59de6ee2013'}}, tasks=(PregelTask(id='67681e4e-5693-f8b2-89c2-c664c1fd5b4c', name='generate_explanation', path=('__pregel_pull', 'generate_explanation'), error=None, interrupts=(), state=None, result={'explanation': 'The joke \"Why did the pizza go to therapy? Because it was feeling crusty\" is a play on words, relying on the double meaning of the term \"crusty.\"\\n\\nIn this context, the word \"crusty\" has a literal meaning, referring to the crunchy outer layer of a pizza, known as the crust. However, the phrase \"feeling crusty\" also has an idiomatic meaning, equivalent to feeling irritable, grumpy, or having a short temper.\\n\\nThe punchline of the joke is a clever twist on the expected answer, as the listener is initially led to believe that the pizza is seeking therapy due to being literally made of crust. Instead, the joke subverts this expectation with a more humorous and relatable reason, implying that the pizza is feeling upset or annoyed, much like a person who might visit a therapist for emotional issues.\\n\\nThe joke relies on the listener making the connection between the literal and figurative meanings of \"crusty,\" creating a sense of wordplay and cleverness that adds to the humor.'}),), interrupts=()),\n",
       " StateSnapshot(values={'topic': 'pizza'}, next=('generate_joke',), config={'configurable': {'thread_id': '1', 'checkpoint_ns': '', 'checkpoint_id': '1f0899ef-5c27-6e86-8000-b59de6ee2013'}}, metadata={'source': 'loop', 'step': 0, 'parents': {}}, created_at='2025-09-04T14:53:46.948762+00:00', parent_config={'configurable': {'thread_id': '1', 'checkpoint_ns': '', 'checkpoint_id': '1f0899ef-5c25-6adc-bfff-8df0eccd6ac6'}}, tasks=(PregelTask(id='8aa48b45-24b3-a6ab-c46e-5dda449748c0', name='generate_joke', path=('__pregel_pull', 'generate_joke'), error=None, interrupts=(), state=None, result={'joke': 'Why did the pizza go to therapy? \\n\\nBecause it was feeling crusty.'}),), interrupts=()),\n",
       " StateSnapshot(values={}, next=('__start__',), config={'configurable': {'thread_id': '1', 'checkpoint_ns': '', 'checkpoint_id': '1f0899ef-5c25-6adc-bfff-8df0eccd6ac6'}}, metadata={'source': 'input', 'step': -1, 'parents': {}}, created_at='2025-09-04T14:53:46.947845+00:00', parent_config=None, tasks=(PregelTask(id='7a8ed940-1640-ddf3-0c86-d968de66ae67', name='__start__', path=('__pregel_pull', '__start__'), error=None, interrupts=(), state=None, result={'topic': 'pizza'}),), interrupts=())]"
      ]
     },
     "execution_count": 21,
     "metadata": {},
     "output_type": "execute_result"
    }
   ],
   "source": [
    "list(workflow.get_state_history(config1))"
   ]
  },
  {
   "cell_type": "markdown",
   "id": "5728a9d7",
   "metadata": {},
   "source": [
    "### Fault Tolerance"
   ]
  },
  {
   "cell_type": "code",
   "execution_count": 22,
   "id": "6c5be70c",
   "metadata": {},
   "outputs": [],
   "source": [
    "import time\n",
    "\n",
    "# 1. Define the state\n",
    "class CrashState(TypedDict):\n",
    "    input: str\n",
    "    step1: str\n",
    "    step2: str"
   ]
  },
  {
   "cell_type": "code",
   "execution_count": 27,
   "id": "5d5aa40d",
   "metadata": {},
   "outputs": [],
   "source": [
    "# 2. Define steps\n",
    "def step_1(state: CrashState) -> CrashState:\n",
    "    print(\"✅ Step 1 executed\")\n",
    "    return {\"step1\": \"done\", \"input\": state[\"input\"]}\n",
    "\n",
    "def step_2(state: CrashState) -> CrashState:\n",
    "    print(\"⏳ Step 2 hanging... now manually interrupt from the notebook toolbar (STOP button)\")\n",
    "    time.sleep(100)  # Simulate long-running hang\n",
    "    return {\"step2\": \"done\"}\n",
    "\n",
    "def step_3(state: CrashState) -> CrashState:\n",
    "    print(\"✅ Step 3 executed\")\n",
    "    return {\"done\": True}"
   ]
  },
  {
   "cell_type": "code",
   "execution_count": 28,
   "id": "8131732b",
   "metadata": {},
   "outputs": [],
   "source": [
    "# 3. Build the graph\n",
    "builder = StateGraph(CrashState)\n",
    "builder.add_node(\"step_1\", step_1)\n",
    "builder.add_node(\"step_2\", step_2)\n",
    "builder.add_node(\"step_3\", step_3)\n",
    "\n",
    "builder.set_entry_point(\"step_1\")\n",
    "builder.add_edge(\"step_1\", \"step_2\")\n",
    "builder.add_edge(\"step_2\", \"step_3\")\n",
    "builder.add_edge(\"step_3\", END)\n",
    "\n",
    "checkpointer = InMemorySaver()\n",
    "graph = builder.compile(checkpointer=checkpointer)"
   ]
  },
  {
   "cell_type": "code",
   "execution_count": 29,
   "id": "5279b868",
   "metadata": {},
   "outputs": [
    {
     "name": "stdout",
     "output_type": "stream",
     "text": [
      "▶️ Running graph: Please manually interrupt during Step 2...\n",
      "✅ Step 1 executed\n",
      "⏳ Step 2 hanging... now manually interrupt from the notebook toolbar (STOP button)\n",
      "❌ Kernel manually interrupted (crash simulated).\n"
     ]
    }
   ],
   "source": [
    "try:\n",
    "    print(\"▶️ Running graph: Please manually interrupt during Step 2...\")\n",
    "    graph.invoke({\"input\": \"start\"}, config={\"configurable\": {\"thread_id\": 'thread-1'}})\n",
    "except KeyboardInterrupt:\n",
    "    print(\"❌ Kernel manually interrupted (crash simulated).\")"
   ]
  },
  {
   "cell_type": "code",
   "execution_count": 30,
   "id": "b92e5df8",
   "metadata": {},
   "outputs": [
    {
     "name": "stdout",
     "output_type": "stream",
     "text": [
      "\n",
      "🔁 Re-running the graph to demonstrate fault tolerance...\n",
      "⏳ Step 2 hanging... now manually interrupt from the notebook toolbar (STOP button)\n",
      "✅ Step 3 executed\n",
      "\n",
      "✅ Final State: {'input': 'start', 'step1': 'done', 'step2': 'done'}\n"
     ]
    }
   ],
   "source": [
    "# 6. Re-run to show fault-tolerant resume\n",
    "print(\"\\n🔁 Re-running the graph to demonstrate fault tolerance...\")\n",
    "final_state = graph.invoke(None, config={\"configurable\": {\"thread_id\": 'thread-1'}})\n",
    "print(\"\\n✅ Final State:\", final_state)"
   ]
  },
  {
   "cell_type": "code",
   "execution_count": 31,
   "id": "81869614",
   "metadata": {},
   "outputs": [
    {
     "data": {
      "text/plain": [
       "[StateSnapshot(values={'input': 'start', 'step1': 'done', 'step2': 'done'}, next=(), config={'configurable': {'thread_id': 'thread-1', 'checkpoint_ns': '', 'checkpoint_id': '1f089a28-6595-6994-8003-634cafb92ff9'}}, metadata={'source': 'loop', 'step': 3, 'parents': {}}, created_at='2025-09-04T15:19:18.019506+00:00', parent_config={'configurable': {'thread_id': 'thread-1', 'checkpoint_ns': '', 'checkpoint_id': '1f089a28-6593-6996-8002-13337b58c7a1'}}, tasks=(), interrupts=()),\n",
       " StateSnapshot(values={'input': 'start', 'step1': 'done', 'step2': 'done'}, next=('step_3',), config={'configurable': {'thread_id': 'thread-1', 'checkpoint_ns': '', 'checkpoint_id': '1f089a28-6593-6996-8002-13337b58c7a1'}}, metadata={'source': 'loop', 'step': 2, 'parents': {}}, created_at='2025-09-04T15:19:18.018679+00:00', parent_config={'configurable': {'thread_id': 'thread-1', 'checkpoint_ns': '', 'checkpoint_id': '1f089a24-542e-6de4-8001-c9066ee20cfa'}}, tasks=(PregelTask(id='ffbf4484-54b4-103b-1477-ed863ef7b52d', name='step_3', path=('__pregel_pull', 'step_3'), error=None, interrupts=(), state=None, result={}),), interrupts=()),\n",
       " StateSnapshot(values={'input': 'start', 'step1': 'done'}, next=('step_2',), config={'configurable': {'thread_id': 'thread-1', 'checkpoint_ns': '', 'checkpoint_id': '1f089a24-542e-6de4-8001-c9066ee20cfa'}}, metadata={'source': 'loop', 'step': 1, 'parents': {}}, created_at='2025-09-04T15:17:28.820669+00:00', parent_config={'configurable': {'thread_id': 'thread-1', 'checkpoint_ns': '', 'checkpoint_id': '1f089a24-542c-6e9a-8000-5816c9dbb853'}}, tasks=(PregelTask(id='b0b9e5fd-aa7e-6ddd-fbf1-b06466c20ab1', name='step_2', path=('__pregel_pull', 'step_2'), error=None, interrupts=(), state=None, result={'step2': 'done'}),), interrupts=()),\n",
       " StateSnapshot(values={'input': 'start'}, next=('step_1',), config={'configurable': {'thread_id': 'thread-1', 'checkpoint_ns': '', 'checkpoint_id': '1f089a24-542c-6e9a-8000-5816c9dbb853'}}, metadata={'source': 'loop', 'step': 0, 'parents': {}}, created_at='2025-09-04T15:17:28.819868+00:00', parent_config={'configurable': {'thread_id': 'thread-1', 'checkpoint_ns': '', 'checkpoint_id': '1f089a24-542a-69f6-bfff-9e654b4f5120'}}, tasks=(PregelTask(id='f84dcd31-ba17-4288-8904-be57b17e1c1c', name='step_1', path=('__pregel_pull', 'step_1'), error=None, interrupts=(), state=None, result={'step1': 'done', 'input': 'start'}),), interrupts=()),\n",
       " StateSnapshot(values={}, next=('__start__',), config={'configurable': {'thread_id': 'thread-1', 'checkpoint_ns': '', 'checkpoint_id': '1f089a24-542a-69f6-bfff-9e654b4f5120'}}, metadata={'source': 'input', 'step': -1, 'parents': {}}, created_at='2025-09-04T15:17:28.818932+00:00', parent_config=None, tasks=(PregelTask(id='e5e00781-35e3-faea-be20-c353e6278649', name='__start__', path=('__pregel_pull', '__start__'), error=None, interrupts=(), state=None, result={'input': 'start'}),), interrupts=())]"
      ]
     },
     "execution_count": 31,
     "metadata": {},
     "output_type": "execute_result"
    }
   ],
   "source": [
    "list(graph.get_state_history({\"configurable\": {\"thread_id\": 'thread-1'}}))"
   ]
  },
  {
   "cell_type": "code",
   "execution_count": null,
   "id": "b798be77",
   "metadata": {},
   "outputs": [],
   "source": []
  },
  {
   "cell_type": "code",
   "execution_count": null,
   "id": "2a12c8b3",
   "metadata": {},
   "outputs": [],
   "source": []
  }
 ],
 "metadata": {
  "kernelspec": {
   "display_name": "base",
   "language": "python",
   "name": "python3"
  },
  "language_info": {
   "codemirror_mode": {
    "name": "ipython",
    "version": 3
   },
   "file_extension": ".py",
   "mimetype": "text/x-python",
   "name": "python",
   "nbconvert_exporter": "python",
   "pygments_lexer": "ipython3",
   "version": "3.12.7"
  }
 },
 "nbformat": 4,
 "nbformat_minor": 5
}
