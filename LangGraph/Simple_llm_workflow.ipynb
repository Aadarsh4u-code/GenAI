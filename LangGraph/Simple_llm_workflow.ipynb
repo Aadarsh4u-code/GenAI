{
 "cells": [
  {
   "cell_type": "markdown",
   "id": "949a2d8a",
   "metadata": {},
   "source": [
    "## Simple LLM Workflow"
   ]
  },
  {
   "cell_type": "code",
   "execution_count": 2,
   "id": "2b05d9e9",
   "metadata": {},
   "outputs": [
    {
     "data": {
      "text/plain": [
       "True"
      ]
     },
     "execution_count": 2,
     "metadata": {},
     "output_type": "execute_result"
    }
   ],
   "source": [
    "import os\n",
    "from dotenv import load_dotenv\n",
    "from langchain_huggingface import ChatHuggingFace, HuggingFaceEndpoint\n",
    "from langgraph.graph import StateGraph, START, END\n",
    "from typing import TypedDict\n",
    "\n",
    "load_dotenv()"
   ]
  },
  {
   "cell_type": "code",
   "execution_count": 9,
   "id": "d734cfd8",
   "metadata": {},
   "outputs": [],
   "source": [
    "hugging_face_llm = HuggingFaceEndpoint(\n",
    "    repo_id=\"deepseek-ai/DeepSeek-V3.1\",\n",
    "    huggingfacehub_api_token=os.getenv(\"HUGGINGFACEHUB_API_TOKEN\"),\n",
    "    task=\"text-generation\",\n",
    "    max_new_tokens=512,\n",
    "    do_sample=False,\n",
    "    repetition_penalty=1.03\n",
    ")\n",
    "\n",
    "llm = ChatHuggingFace(llm=hugging_face_llm)"
   ]
  },
  {
   "cell_type": "code",
   "execution_count": null,
   "id": "9a87bbd4",
   "metadata": {},
   "outputs": [
    {
     "name": "stdout",
     "output_type": "stream",
     "text": [
      "Of course! Let's break down what an **Agent** is in the context of **LangGraph**.\n",
      "\n",
      "### The Short Answer\n",
      "\n",
      "In LangGraph, an **Agent** is not a single, monolithic function. Instead, it's a **design pattern** implemented *using* the LangGraph framework. An agent is a **stateful workflow** where a language model (LLM) acts as a reasoning engine, repeatedly deciding which tool to use next to accomplish a complex task.\n",
      "\n",
      "The core idea is that the LLM becomes a **controller** that directs the flow of execution by choosing from a set of available tools (like calling APIs, searching the web, running code, etc.).\n",
      "\n",
      "---\n",
      "\n",
      "### The Detailed Explanation\n",
      "\n",
      "To understand agents in LangGraph, it's best to compare them to the simpler, more traditional \"Agent\" concept in frameworks like LangChain.\n",
      "\n",
      "#### 1. The Traditional \"LangChain-Style\" Agent\n",
      "\n",
      "In standard LangChain, an agent is often a single, pre-built chain. You give it a list of tools and a prompt, and it handles the loop internally. The workflow looks like this:\n",
      "\n",
      "1.  **Input:** User question (\"What's the weather in Tokyo?\")\n",
      "2.  **LLM Call:** The agent chain calls the LLM.\n",
      "3.  **Decision:** The LLM returns a decision (e.g., `\"Action\": \"search_weather_api\"`).\n",
      "4.  **Action:** The framework executes the tool with the given input.\n",
      "5.  **Observation:** The result from the tool is recorded.\n",
      "6.  **Repeat:** Steps 2-5 are repeated in a hidden loop until the LLM decides an final answer is ready (`\"Action\": \"Final Answer\"`).\n",
      "7.  **Output:** The final answer is returned.\n",
      "\n",
      "This is powerful but can be a \"black box.\" Customizing the loop (e.g., adding custom checks, recovery from errors, complex branching) is often difficult.\n",
      "\n",
      "#### 2. The \"LangGraph-Style\" Agent\n",
      "\n",
      "LangGraph makes the agent loop **explicit and fully customizable**. You don't use a pre-built agent; you **build the agent's brain as a graph**.\n",
      "\n",
      "An agent in LangGraph is a graph with a **cycle** (a loop), where the nodes represent distinct steps (like \"call the LLM\" or \"execute a tool\") and the edges control the flow between them based on the state.\n",
      "\n",
      "Here’s what a typical LangGraph agent workflow looks like:\n",
      "\n",
      "```mermaid\n",
      "flowchart LR\n",
      "    A[Start: User Question] --> B[Node: Agent<br>LLM decides next action]\n",
      "    B -- \"Needs to use a tool<br>e.g., `action: search`\" --> C[Node: Tools<br>Execute the chosen tool]\n",
      "    C --> D[Node: Update State<br>Add 'observation' to state]\n",
      "    D --> B\n",
      "    B -- \"Decides it has the<br>final answer\" --> E[End: Final Answer]\n",
      "```\n",
      "\n",
      "The key components of a LangGraph Agent are:\n",
      "\n",
      "*   **State:** A shared data structure (usually a Python `TypedDict`) that passes information between nodes. It contains things like the user's input, the chat history, the LLM's reasoning, and the results from tools.\n",
      "*   **Nodes:** Functions that perform a specific task.\n",
      "    *   **`agent_node`:** The most important node. It takes the current state, crafts a prompt for the LLM, and calls it. The LLM returns a decision (e.g., `\"I need to use tool X\"`).\n",
      "    *   **`tool_node`:** This node executes the function/tool that the LLM decided to use (e.g., running a Python REPL or calling a search API) and records the result.\n",
      "*   **Edges:** The logic that connects nodes. The crucial edge is the **conditional edge** that checks the LLM's output.\n",
      "    *   Did the LLM say `\"Final Answer: ...\"`? --> Proceed to the end.\n",
      "    *   Did the LLM say `\"Action: [tool_name]\"`? --> Route to the `tool_node`.\n",
      "\n",
      "### Key Advantages of LangGraph for Building Agents\n",
      "\n",
      "1.  **Explicit Control:** The entire reasoning loop is visible in your code. You can see, modify, and debug every step.\n",
      "2.  **Robustness & Human-in-the-Loop:** It's easy to add nodes for error handling, validation, or even pausing to ask a human for clarification before proceeding.\n",
      "3.  **Complex Behaviors:** You can build agents that have multiple sub-agents, can parallelize tasks, or can handle complex, multi-domain problems that a simple loop can't manage. This is often called **multi-agent协作**.\n",
      "4.  **State Management:** LangGraph has built-in support for checkpoints and persistence, making it easier to build long-running, stateful agents.\n",
      "\n",
      "### Simple Code Skeleton\n",
      "\n",
      "Here’s a high-level pseudocode sketch of how you define an agent in LangGraph:\n",
      "\n",
      "```python\n",
      "from langgraph.graph import StateGraph, END\n",
      "\n",
      "# 1. Define your State which holds the conversation\n",
      "class AgentState(TypedDict):\n",
      "    input: str\n",
      "    chat_history: list\n",
      "    reasoning: str\n",
      "    tool_outputs: list\n",
      "\n",
      "# 2. Define your nodes\n",
      "def agent_node(state: AgentState):\n",
      "    \"\"\"Node that calls the LLM and decides what to do next.\"\"\"\n",
      "    # Build prompt from state\n",
      "    llm_response = call_llm(prompt)\n",
      "    if \"Final Answer\" in llm_response:\n",
      "        return {\"final_answer\": llm_response}\n",
      "    else:\n",
      "        return {\"next_action\": llm_response}\n",
      "\n",
      "def tool_node(state: AgentState):\n",
      "    \"\"\"Node that executes a tool based on the LLM's decision.\"\"\"\n",
      "    tool_name = state[\"next_action\"]\n",
      "    result = call_tool(tool_name, state[\"input\"])\n",
      "    return {\"tool_outputs\": result}\n",
      "\n",
      "# 3. Build the Graph\n",
      "graph = StateGraph(AgentState)\n",
      "graph.add_node(\"agent\", agent_node)\n",
      "graph.add_node(\"tools\", tool_node)\n",
      "graph.set_entry_point(\"agent\")\n",
      "\n",
      "# 4. Add conditional edges\n",
      "graph.add_conditional_edges(\n",
      "    \"agent\",\n",
      "    # This function checks the agent's output to decide where to go next\n",
      "    route_next_step\n",
      ")\n",
      "graph.add_edge(\"tools\", \"agent\") # After tools, go back to the agent\n",
      "\n",
      "# 5. Compile the agent!\n",
      "app = graph.compile()\n",
      "\n",
      "# Now you have an Agent you can run!\n",
      "final_state = app.invoke({\"input\": \"What's the weather in Tokyo?\"})\n",
      "```\n",
      "\n",
      "### Summary\n",
      "\n",
      "| Feature | Traditional Agent (e.g., LangChain) | LangGraph Agent |\n",
      "| :--- | :--- | :--- |\n",
      "| **Nature** | A pre-built chain/object. | A custom, compiled **graph workflow**. |\n",
      "| **Loop** | Implicit, hidden within the agent. | **Explicit**, defined by you with nodes and edges. |\n",
      "| **Control** | Limited customization of the steps. | **Full control** over every step, state, and transition. |\n",
      "| **Best For** | Simple, quick-to-build agents. | **Complex, stateful, and robust** agents requiring custom logic. |\n",
      "\n",
      "In essence, **LangGraph provides the framework to *build* sophisticated agents**, rather than providing the agent itself. It's a lower-level, more powerful tool for creating autonomous, reasoning systems.\n"
     ]
    }
   ],
   "source": [
    "# result = llm.invoke(\"what is agent in langgraph\")\n",
    "# print(result.content)"
   ]
  },
  {
   "cell_type": "code",
   "execution_count": 22,
   "id": "30900c2f",
   "metadata": {},
   "outputs": [],
   "source": [
    "# Create State\n",
    "class LLMState(TypedDict):\n",
    "    question: str\n",
    "    answer: str\n",
    "    "
   ]
  },
  {
   "cell_type": "code",
   "execution_count": 23,
   "id": "4bf4e340",
   "metadata": {},
   "outputs": [],
   "source": [
    "def llm_qa(state: LLMState) -> LLMState:\n",
    "    # Extract the question from state\n",
    "    question = state['question']\n",
    "\n",
    "    # Form a prompt \n",
    "    prompt = f'Answer the following question {question}'\n",
    "\n",
    "    # Ask a question from LLM\n",
    "    answer = llm.invoke(prompt)\n",
    "\n",
    "    # Update the answer in the state\n",
    "    state['answer'] = answer.content\n",
    "\n",
    "    return state"
   ]
  },
  {
   "cell_type": "code",
   "execution_count": 24,
   "id": "dc0ffef3",
   "metadata": {},
   "outputs": [],
   "source": [
    "# Create Graph\n",
    "workflow_graph = StateGraph(LLMState)\n",
    "\n",
    "# Add Node\n",
    "workflow_graph.add_node('llm_qa', llm_qa)\n",
    "\n",
    "# Add Edge\n",
    "workflow_graph.add_edge(START, 'llm_qa')\n",
    "workflow_graph.add_edge('llm_qa', END)\n",
    "\n",
    "# Compile\n",
    "workflow = workflow_graph.compile()"
   ]
  },
  {
   "cell_type": "code",
   "execution_count": 25,
   "id": "97d7a67c",
   "metadata": {},
   "outputs": [
    {
     "data": {
      "text/plain": [
       "\"Of course. Here is a short explanation of LLMs.\\n\\n### LLMs in Short\\n\\n**Large Language Models (LLMs)** are a type of artificial intelligence trained on massive amounts of text data. They are powerful **autocomplete systems** that learn to predict the next most likely word in a sequence.\\n\\nBecause they've seen so much text (books, articles, code, etc.), they don't just learn grammar; they learn patterns, facts, reasoning skills, and even the styles of different types of writing. This allows them to perform a wide range of tasks, such as:\\n\\n*   **Generating text** (stories, emails, poems)\\n*   **Answering questions**\\n*   **Translating languages**\\n*   **Summarizing long documents**\\n*   **Writing and explaining code**\\n\\n**Key things to remember:**\\n*   They are **statistical**, not conscious. They generate responses based on probability, not true understanding.\\n*   Their performance depends heavily on the **quality and quantity of their training data**.\\n*   Famous examples include **OpenAI's GPT-4**, **Google's Gemini**, and **Anthropic's Claude**.\""
      ]
     },
     "execution_count": 25,
     "metadata": {},
     "output_type": "execute_result"
    }
   ],
   "source": [
    "# Execute the Graph\n",
    "result = workflow.invoke({'question': \"Explain LLMs in short?\"})\n",
    "result['answer']"
   ]
  },
  {
   "cell_type": "code",
   "execution_count": 26,
   "id": "1346075c",
   "metadata": {},
   "outputs": [
    {
     "data": {
      "image/png": "[encoded data removed]",
      "text/plain": [
       "<IPython.core.display.Image object>"
      ]
     },
     "execution_count": 26,
     "metadata": {},
     "output_type": "execute_result"
    }
   ],
   "source": [
    "from IPython.display import Image\n",
    "Image(workflow.get_graph().draw_mermaid_png())"
   ]
  },
  {
   "cell_type": "markdown",
   "id": "7008709a",
   "metadata": {},
   "source": [
    "## Prompt Channing"
   ]
  },
  {
   "cell_type": "code",
   "execution_count": 3,
   "id": "92cb137d",
   "metadata": {},
   "outputs": [],
   "source": [
    "hugging_face_llm = HuggingFaceEndpoint(\n",
    "    repo_id=\"mistralai/Mistral-7B-Instruct-v0.2\",\n",
    "    huggingfacehub_api_token=os.getenv(\"HUGGINGFACEHUB_API_TOKEN\"),\n",
    "    task=\"conversational\", \n",
    "    max_new_tokens=512,\n",
    "    do_sample=False,\n",
    "    repetition_penalty=1.03\n",
    ")\n",
    "\n",
    "llm = ChatHuggingFace(llm=hugging_face_llm)\n",
    "\n"
   ]
  },
  {
   "cell_type": "code",
   "execution_count": 4,
   "id": "0ffe071c",
   "metadata": {},
   "outputs": [],
   "source": [
    "# Create State\n",
    "class BlogState(TypedDict):\n",
    "    title: str\n",
    "    outline: str\n",
    "    content: str\n",
    "    "
   ]
  },
  {
   "cell_type": "code",
   "execution_count": 5,
   "id": "5c2e37d1",
   "metadata": {},
   "outputs": [],
   "source": [
    "def create_blog_outline(state: BlogState) -> BlogState:\n",
    "    # Fetch title\n",
    "    title = state['title']\n",
    "\n",
    "    # call llm\n",
    "    prompt = f\"Generate a detailed outline for a blog on the topic - {title}\"\n",
    "    outline = llm.invoke(prompt).content\n",
    "\n",
    "    # update state\n",
    "    state['outline'] = outline\n",
    "\n",
    "    return state\n",
    "\n",
    "\n",
    "def create_blog(state: BlogState) -> BlogState:\n",
    "    title = state['title']\n",
    "    outline = state['outline']\n",
    "\n",
    "    prompt = f'Write a detailed blog on the title - {title} using the follwing outline \\n {outline}'\n",
    "    content = llm.invoke(prompt).content\n",
    "\n",
    "    state['content'] = content\n",
    "\n",
    "    return state\n",
    "\n"
   ]
  },
  {
   "cell_type": "code",
   "execution_count": 6,
   "id": "d209c42d",
   "metadata": {},
   "outputs": [],
   "source": [
    "# Create graph\n",
    "graph = StateGraph(BlogState)\n",
    "\n",
    "# Add Node\n",
    "graph.add_node(\"create_blog_outline\", create_blog_outline)\n",
    "graph.add_node(\"create_blog\", create_blog)\n",
    "\n",
    "# Add Edge\n",
    "graph.add_edge(START, 'create_blog_outline')\n",
    "graph.add_edge('create_blog_outline', 'create_blog')\n",
    "graph.add_edge('create_blog', END)\n",
    "\n",
    "# Compile graph\n",
    "workflow = graph.compile()\n"
   ]
  },
  {
   "cell_type": "code",
   "execution_count": 7,
   "id": "c096e029",
   "metadata": {},
   "outputs": [
    {
     "name": "stdout",
     "output_type": "stream",
     "text": [
      "{'title': 'Rise of AI in Nepal', 'outline': ' Title: \"The Rise of Artificial Intelligence in Nepal: Transforming Industries and Shaping the Future\"\\n\\nI. Introduction\\n   A. Brief overview of Artificial Intelligence (AI) and its global impact\\n   B. Importance of discussing the AI landscape in Nepal\\n   C. Objectives of the blog\\n\\nII. Background of AI in Nepal\\n   A. Historical context of Nepal\\'s technological development\\n   B. Early introduction to AI and related technologies in Nepal\\n   C. Initial initiatives and partnerships (e.g., collaboration with foreign universities and organizations)\\n\\nIII. Recent Developments and Current State of AI in Nepal\\n   A. Government initiatives and policies\\n      1. National Information Technology Center (NITC) and its AI Roadmap\\n      2. fellowship programs encouraging AI research\\n      3. Nepal Telecommunications Authority\\'s efforts in AI and digital transformation\\n   B. Academia and Research Institutes\\n      1. Universities and research centers focusing on AI\\n      2. Training and education programs in AI\\n   C. Private Sector & Startups\\n      1. AI adoption by businesses\\n      2. Success stories and notable companies\\n      3. Investment and funding opportunities\\n\\nIV. Applications of AI in Nepal\\n   A. Healthcare sector\\n      1. Telemedicine and virtual consultations\\n      2. Disease diagnosis and prediction systems\\n      3. Medical research and patient care\\n   B. Agriculture sector\\n      1. Precision farming and crop monitoring\\n      2. Livestock management systems\\n      3. Automation of farming processes\\n   C. Education sector\\n      1. Personalized learning and AI tutoring\\n      2. Automated assessment and grading systems\\n      3. Virtual classrooms and educational content generation\\n\\nV. Challenges and Concerns Surrounding AI in Nepal\\n   A. Data privacy and security\\n   B. Ethical considerations\\n   C. Infrastructure and digital literacy\\n   D. Future workforce implications\\n\\nVI. Conclusion\\n   A. Recap of the current state of AI in Nepal and its potential impact\\n   B. Recommendations for government policies and actions\\n   C. Encouragement for continued investment and partnerships\\n\\nVII. References\\n   A. List of credible sources and resources for further reading.', 'content': \" Title: The Rise of Artificial Intelligence in Nepal: Transforming Industries and Shaping the Future\\n\\nI. Introduction\\nArtificial Intelligence (AI) has emerged as a game-changer in various sectors worldwide, leading to significant advancements and efficiencies. As the world embraces this technological revolution, it is essential to discuss the AI landscape in Nepal and understand its impact on industries and the future. In this blog, we introduce the concept of AI, discuss its importance in Nepal, and explore its current developments and applications in the country.\\n\\nA. Brief Overview of Artificial Intelligence (AI) and Its Global Impact\\nAI refers to machines or software that mimic human intelligence and perform tasks normally requiring human intervention, such as reasoning, problem-solving, learning, and perception. AI has been hailed as the next Industrial Revolution with applications in healthcare, education, finance, transportation, agriculture, and more.\\n\\nB. Importance of Discussing AI Landscape in Nepal\\nNepal, a landlocked country in South Asia, has shown remarkable progress in recent years in the technology sector. With its growing focus on digital transformation and the increasing prevalence of AI in various industries, it is crucial to understand the current state and potential impact of AI in Nepal.\\n\\nC. Objectives of the Blog\\nThis blog aims to shed light on the history of AI in Nepal, recent developments and applications, challenges, and future opportunities.\\n\\nII. Background of AI in Nepal\\nA. Historical Context of Nepal's Technological Development\\nNepal has made strides in its technological development since the 1990s when it started liberalizing its economy and embracing globalization. This period saw significant growth in the communications, energy, and transportation sectors, paving the way for the adoption of advanced technologies such as AI.\\n\\nB. Early Introduction to AI and Related Technologies in Nepal\\nThe early 2000s saw the introduction of basic computing facilities and internet access in Nepal, leading to the exploration of AI and related technologies. Nepal's first AI conference was held in 2014, and since then, initiatives have been taken to foster research and development in the field.\\n\\nC. Initial Initiatives and Partnerships\\nNepal has collaborated with foreign universities and organizations to promote AI research and education. For instance, the Kathmandu University School of Engineering (KUSE) has partnered with the Fraunhofer Institute for Intelligent Analysis and Information Systems (Fraunhofer IAIS) in Germany to develop AI solutions for healthcare and agriculture.\\n\\nIII. Recent Developments and Current State of AI in Nepal\\nA. Government Initiatives and Policies\\n1. National Information Technology Center (NITC) and Its AI Roadmap\\nThe National Information Technology Center (NITC) has launched the Nepal AI and RPA Roadmap 2023 to develop a skilled workforce, strengthen research and innovation, and promote the adoption of AI in key sectors.\\n2. Fellowship Programs Encouraging AI Research\\nThe NITC also offers fellowships to support AI research and innovation in Nepal.\\n3. Nepal Telecommunications Authority's Efforts in AI and Digital Transformation\\nThe Nepal Telecommunications Authority (NTA) is promoting the digital transformation of various sectors, including education, healthcare, and agriculture, through AI and technology.\\n\\nB. Academia and Research Institutes\\n1. Universities and Research Centers Focusing on AI\\nSeveral universities and research centers, such as Kathmandu University, Tribhuvan University, and Purbanchal University, are engaged in AI research and development.\\n2. Training and Education Programs in AI\\nThese institutions offer educational programs and training in AI, machine learning, and related fields, equipping students and professionals with the necessary skills to contribute to the development of AI in Nepal.\\n\\nC. Private Sector & Startups\\n1. AI Adoption by Businesses\\nMany Nepali businesses are adopting AI solutions for customer service, marketing, and operational efficiency. For instance, logistics companies are using AI for route optimization, and fintech startups are using AI for fraud detection and credit scoring.\\n2. Success Stories and Notable Companies\\nNotable companies like HiTree, DataAnalyze, and F1Soft are leading the charge in AI innovation in Nepal. HiTree offers AI solutions for fraud detection and risk assessment, while F1Soft leverages AI for its digital payment platform, eSewa.\\n3. Investment and Funding Opportunities\\nWith growing interest in AI, there are increasing investment and funding opportunities for startups and researchers in Nepal. The Nepal Innovation and Technology Development Center (NITDC) and the Centre for Technology Transfer (CTT) are some of the organizations providing support to entrepreneurs and innovators.\\n\\nIV. Applications of AI in Nepal\\nA. Healthcare Sector\\n1. Telemedicine and Virtual Consultations\\nAI is used to improve healthcare delivery by enabling telemedicine and virtual consultations, especially in rural areas where access to medical facilities is limited.\\n2. Disease Diagnosis and Prediction Systems\\nAI algorithms can analyze patient data and medical records to identify potential health issues and predict diseases, enabling timely interventions.\\n3. Medical Research and Patient Care\\nAI is used in medical research to analyze large datasets and identify trends, as well as in patient care for personalized treatments and monitoring.\\n\\nB. Agriculture Sector\\n1. Precision Farming and Crop Monitoring\\nAI is used for precision farming to optimize crop yield and reduce waste by analyzing soil conditions, weather patterns, and crop health. Crop monitoring systems use AI to analyze satellite imagery and detect anomalies, aiding farmers in timely interventions.\\n2. Livestock Management Systems\\nAI-based livestock management systems help monitor animal health, manage feeding and breeding, and provide early warning systems for diseases.\\n3. Automation of Farming Processes\\nAutomation of farming processes through AI can help reduce labor costs and increase efficiency, especially in large-scale agriculture.\\n\\nC. Education Sector\\n1. Personalized Learning and AI Tutoring\\nAI is used in education for personalized learning and tutoring, providing students with customized learning paths based on their strengths and weaknesses.\\n2. Automated Assessment and Grading Systems\\nAutomated assessment and grading systems enable accurate and timely evaluation of student performance, reducing the workload on teachers and ensuring fairness and consistency.\\n3. Virtual Classrooms and Educational Content Generation\\nVirtual classrooms enable delivery of education to students in remote areas, while AI-generated educational content can be tailored to individual learning styles and preferences.\\n\\nV. Challenges and Concerns Surrounding AI in Nepal\\nA. Data Privacy and Security\\nEnsuring data privacy and security is crucial for successful AI implementation in Nepal. There is a need for robust data protection policies and strong cybersecurity measures.\\n\\nB. Ethical Considerations\\nConsidering ethical implications, including bias and fairness, is essential when implementing AI solutions. Ensuring transparency and accountability in AI systems can help mitigate ethical concerns.\\n\\nC. Infrastructure and Digital Literacy\\nAddressing the infrastructure gap, especially in rural areas, and improving digital literacy are crucial for enabling AI adoption and ensuring its benefits are accessible to all.\\n\\nD. Future Workforce Implications\\nEnsuring a skilled workforce to design, implement, and manage AI solutions is essential for the successful implementation and integration of AI in Nepal.\\n\\nVI. Conclusion\\nNepal is at the beginning of its AI journey, with growing government support, academic research, and private sector investment. AI has the potential to revolutionize various industries, from healthcare and agriculture to education and finance, and shape Nepal's future. To fully leverage the potential of AI, it is essential to address challenges and concerns, focus on research and development, and ensure infrastructure and digital literacy improvements.\\n\\nVII. References\\nA. Bajracharya, A. (2020). Role of Artificial Intelligence in Nepal's Agriculture Development. BizTech Magazine, 71(7), 22-23.\\nB. Malla, R. (2021, January 18). Artificial Intelligence: A New Lease of Life for Nepal's Economy? Nepal Watch.\\nC. Parajuli, R. (2018, January 30). Nepal: Making the leap towards AI. The NepalPost.\\nD. Thapa, S. S. (2020). Potential Application of Artificial Intelligence in Nepal: A Review. International Journal of Engineering and Advanced Technology, pp. 1-5.\\nE. Yadav, R. (2021, January 13). Artificial Intelligence in Agriculture: Present Status and Future Prospects in Nepal. Journal of Environmental Agriculture Science, 8(1), 3-8.\"}\n"
     ]
    }
   ],
   "source": [
    "intial_state = {'title': 'Rise of AI in Nepal'}\n",
    "\n",
    "final_state = workflow.invoke(intial_state)\n",
    "\n",
    "print(final_state)"
   ]
  },
  {
   "cell_type": "code",
   "execution_count": 9,
   "id": "171b8cac",
   "metadata": {},
   "outputs": [
    {
     "name": "stdout",
     "output_type": "stream",
     "text": [
      " Title: The Rise of Artificial Intelligence in Nepal: Transforming Industries and Shaping the Future\n",
      "\n",
      "I. Introduction\n",
      "Artificial Intelligence (AI) has emerged as a game-changer in various sectors worldwide, leading to significant advancements and efficiencies. As the world embraces this technological revolution, it is essential to discuss the AI landscape in Nepal and understand its impact on industries and the future. In this blog, we introduce the concept of AI, discuss its importance in Nepal, and explore its current developments and applications in the country.\n",
      "\n",
      "A. Brief Overview of Artificial Intelligence (AI) and Its Global Impact\n",
      "AI refers to machines or software that mimic human intelligence and perform tasks normally requiring human intervention, such as reasoning, problem-solving, learning, and perception. AI has been hailed as the next Industrial Revolution with applications in healthcare, education, finance, transportation, agriculture, and more.\n",
      "\n",
      "B. Importance of Discussing AI Landscape in Nepal\n",
      "Nepal, a landlocked country in South Asia, has shown remarkable progress in recent years in the technology sector. With its growing focus on digital transformation and the increasing prevalence of AI in various industries, it is crucial to understand the current state and potential impact of AI in Nepal.\n",
      "\n",
      "C. Objectives of the Blog\n",
      "This blog aims to shed light on the history of AI in Nepal, recent developments and applications, challenges, and future opportunities.\n",
      "\n",
      "II. Background of AI in Nepal\n",
      "A. Historical Context of Nepal's Technological Development\n",
      "Nepal has made strides in its technological development since the 1990s when it started liberalizing its economy and embracing globalization. This period saw significant growth in the communications, energy, and transportation sectors, paving the way for the adoption of advanced technologies such as AI.\n",
      "\n",
      "B. Early Introduction to AI and Related Technologies in Nepal\n",
      "The early 2000s saw the introduction of basic computing facilities and internet access in Nepal, leading to the exploration of AI and related technologies. Nepal's first AI conference was held in 2014, and since then, initiatives have been taken to foster research and development in the field.\n",
      "\n",
      "C. Initial Initiatives and Partnerships\n",
      "Nepal has collaborated with foreign universities and organizations to promote AI research and education. For instance, the Kathmandu University School of Engineering (KUSE) has partnered with the Fraunhofer Institute for Intelligent Analysis and Information Systems (Fraunhofer IAIS) in Germany to develop AI solutions for healthcare and agriculture.\n",
      "\n",
      "III. Recent Developments and Current State of AI in Nepal\n",
      "A. Government Initiatives and Policies\n",
      "1. National Information Technology Center (NITC) and Its AI Roadmap\n",
      "The National Information Technology Center (NITC) has launched the Nepal AI and RPA Roadmap 2023 to develop a skilled workforce, strengthen research and innovation, and promote the adoption of AI in key sectors.\n",
      "2. Fellowship Programs Encouraging AI Research\n",
      "The NITC also offers fellowships to support AI research and innovation in Nepal.\n",
      "3. Nepal Telecommunications Authority's Efforts in AI and Digital Transformation\n",
      "The Nepal Telecommunications Authority (NTA) is promoting the digital transformation of various sectors, including education, healthcare, and agriculture, through AI and technology.\n",
      "\n",
      "B. Academia and Research Institutes\n",
      "1. Universities and Research Centers Focusing on AI\n",
      "Several universities and research centers, such as Kathmandu University, Tribhuvan University, and Purbanchal University, are engaged in AI research and development.\n",
      "2. Training and Education Programs in AI\n",
      "These institutions offer educational programs and training in AI, machine learning, and related fields, equipping students and professionals with the necessary skills to contribute to the development of AI in Nepal.\n",
      "\n",
      "C. Private Sector & Startups\n",
      "1. AI Adoption by Businesses\n",
      "Many Nepali businesses are adopting AI solutions for customer service, marketing, and operational efficiency. For instance, logistics companies are using AI for route optimization, and fintech startups are using AI for fraud detection and credit scoring.\n",
      "2. Success Stories and Notable Companies\n",
      "Notable companies like HiTree, DataAnalyze, and F1Soft are leading the charge in AI innovation in Nepal. HiTree offers AI solutions for fraud detection and risk assessment, while F1Soft leverages AI for its digital payment platform, eSewa.\n",
      "3. Investment and Funding Opportunities\n",
      "With growing interest in AI, there are increasing investment and funding opportunities for startups and researchers in Nepal. The Nepal Innovation and Technology Development Center (NITDC) and the Centre for Technology Transfer (CTT) are some of the organizations providing support to entrepreneurs and innovators.\n",
      "\n",
      "IV. Applications of AI in Nepal\n",
      "A. Healthcare Sector\n",
      "1. Telemedicine and Virtual Consultations\n",
      "AI is used to improve healthcare delivery by enabling telemedicine and virtual consultations, especially in rural areas where access to medical facilities is limited.\n",
      "2. Disease Diagnosis and Prediction Systems\n",
      "AI algorithms can analyze patient data and medical records to identify potential health issues and predict diseases, enabling timely interventions.\n",
      "3. Medical Research and Patient Care\n",
      "AI is used in medical research to analyze large datasets and identify trends, as well as in patient care for personalized treatments and monitoring.\n",
      "\n",
      "B. Agriculture Sector\n",
      "1. Precision Farming and Crop Monitoring\n",
      "AI is used for precision farming to optimize crop yield and reduce waste by analyzing soil conditions, weather patterns, and crop health. Crop monitoring systems use AI to analyze satellite imagery and detect anomalies, aiding farmers in timely interventions.\n",
      "2. Livestock Management Systems\n",
      "AI-based livestock management systems help monitor animal health, manage feeding and breeding, and provide early warning systems for diseases.\n",
      "3. Automation of Farming Processes\n",
      "Automation of farming processes through AI can help reduce labor costs and increase efficiency, especially in large-scale agriculture.\n",
      "\n",
      "C. Education Sector\n",
      "1. Personalized Learning and AI Tutoring\n",
      "AI is used in education for personalized learning and tutoring, providing students with customized learning paths based on their strengths and weaknesses.\n",
      "2. Automated Assessment and Grading Systems\n",
      "Automated assessment and grading systems enable accurate and timely evaluation of student performance, reducing the workload on teachers and ensuring fairness and consistency.\n",
      "3. Virtual Classrooms and Educational Content Generation\n",
      "Virtual classrooms enable delivery of education to students in remote areas, while AI-generated educational content can be tailored to individual learning styles and preferences.\n",
      "\n",
      "V. Challenges and Concerns Surrounding AI in Nepal\n",
      "A. Data Privacy and Security\n",
      "Ensuring data privacy and security is crucial for successful AI implementation in Nepal. There is a need for robust data protection policies and strong cybersecurity measures.\n",
      "\n",
      "B. Ethical Considerations\n",
      "Considering ethical implications, including bias and fairness, is essential when implementing AI solutions. Ensuring transparency and accountability in AI systems can help mitigate ethical concerns.\n",
      "\n",
      "C. Infrastructure and Digital Literacy\n",
      "Addressing the infrastructure gap, especially in rural areas, and improving digital literacy are crucial for enabling AI adoption and ensuring its benefits are accessible to all.\n",
      "\n",
      "D. Future Workforce Implications\n",
      "Ensuring a skilled workforce to design, implement, and manage AI solutions is essential for the successful implementation and integration of AI in Nepal.\n",
      "\n",
      "VI. Conclusion\n",
      "Nepal is at the beginning of its AI journey, with growing government support, academic research, and private sector investment. AI has the potential to revolutionize various industries, from healthcare and agriculture to education and finance, and shape Nepal's future. To fully leverage the potential of AI, it is essential to address challenges and concerns, focus on research and development, and ensure infrastructure and digital literacy improvements.\n",
      "\n",
      "VII. References\n",
      "A. Bajracharya, A. (2020). Role of Artificial Intelligence in Nepal's Agriculture Development. BizTech Magazine, 71(7), 22-23.\n",
      "B. Malla, R. (2021, January 18). Artificial Intelligence: A New Lease of Life for Nepal's Economy? Nepal Watch.\n",
      "C. Parajuli, R. (2018, January 30). Nepal: Making the leap towards AI. The NepalPost.\n",
      "D. Thapa, S. S. (2020). Potential Application of Artificial Intelligence in Nepal: A Review. International Journal of Engineering and Advanced Technology, pp. 1-5.\n",
      "E. Yadav, R. (2021, January 13). Artificial Intelligence in Agriculture: Present Status and Future Prospects in Nepal. Journal of Environmental Agriculture Science, 8(1), 3-8.\n"
     ]
    }
   ],
   "source": [
    "print(final_state['content'])"
   ]
  },
  {
   "cell_type": "code",
   "execution_count": 24,
   "id": "3262cda1",
   "metadata": {},
   "outputs": [
    {
     "ename": "FileNotFoundError",
     "evalue": "No such file or directory: '     +-----------+       \n     | __start__ |       \n     +-----------+       \n            *            \n            *            \n            *            \n+---------------------+  \n| create_blog_outline |  \n+---------------------+  \n            *            \n            *            \n            *            \n    +-------------+      \n    | create_blog |      \n    +-------------+      \n            *            \n            *            \n            *            \n      +---------+        \n      | __end__ |        \n      +---------+        '",
     "output_type": "error",
     "traceback": [
      "\u001b[0;31m---------------------------------------------------------------------------\u001b[0m",
      "\u001b[0;31mTypeError\u001b[0m                                 Traceback (most recent call last)",
      "File \u001b[0;32m/opt/anaconda3/lib/python3.12/site-packages/IPython/core/display.py:1045\u001b[0m, in \u001b[0;36mImage._data_and_metadata\u001b[0;34m(self, always_both)\u001b[0m\n\u001b[1;32m   1044\u001b[0m \u001b[38;5;28;01mtry\u001b[39;00m:\n\u001b[0;32m-> 1045\u001b[0m     b64_data \u001b[38;5;241m=\u001b[39m b2a_base64(\u001b[38;5;28mself\u001b[39m\u001b[38;5;241m.\u001b[39mdata, newline\u001b[38;5;241m=\u001b[39m\u001b[38;5;28;01mFalse\u001b[39;00m)\u001b[38;5;241m.\u001b[39mdecode(\u001b[38;5;124m\"\u001b[39m\u001b[38;5;124mascii\u001b[39m\u001b[38;5;124m\"\u001b[39m)\n\u001b[1;32m   1046\u001b[0m \u001b[38;5;28;01mexcept\u001b[39;00m \u001b[38;5;167;01mTypeError\u001b[39;00m \u001b[38;5;28;01mas\u001b[39;00m e:\n",
      "\u001b[0;31mTypeError\u001b[0m: a bytes-like object is required, not 'str'",
      "\nThe above exception was the direct cause of the following exception:\n",
      "\u001b[0;31mFileNotFoundError\u001b[0m                         Traceback (most recent call last)",
      "File \u001b[0;32m/opt/anaconda3/lib/python3.12/site-packages/IPython/core/formatters.py:974\u001b[0m, in \u001b[0;36mMimeBundleFormatter.__call__\u001b[0;34m(self, obj, include, exclude)\u001b[0m\n\u001b[1;32m    971\u001b[0m     method \u001b[38;5;241m=\u001b[39m get_real_method(obj, \u001b[38;5;28mself\u001b[39m\u001b[38;5;241m.\u001b[39mprint_method)\n\u001b[1;32m    973\u001b[0m     \u001b[38;5;28;01mif\u001b[39;00m method \u001b[38;5;129;01mis\u001b[39;00m \u001b[38;5;129;01mnot\u001b[39;00m \u001b[38;5;28;01mNone\u001b[39;00m:\n\u001b[0;32m--> 974\u001b[0m         \u001b[38;5;28;01mreturn\u001b[39;00m method(include\u001b[38;5;241m=\u001b[39minclude, exclude\u001b[38;5;241m=\u001b[39mexclude)\n\u001b[1;32m    975\u001b[0m     \u001b[38;5;28;01mreturn\u001b[39;00m \u001b[38;5;28;01mNone\u001b[39;00m\n\u001b[1;32m    976\u001b[0m \u001b[38;5;28;01melse\u001b[39;00m:\n",
      "File \u001b[0;32m/opt/anaconda3/lib/python3.12/site-packages/IPython/core/display.py:1035\u001b[0m, in \u001b[0;36mImage._repr_mimebundle_\u001b[0;34m(self, include, exclude)\u001b[0m\n\u001b[1;32m   1033\u001b[0m \u001b[38;5;28;01mif\u001b[39;00m \u001b[38;5;28mself\u001b[39m\u001b[38;5;241m.\u001b[39membed:\n\u001b[1;32m   1034\u001b[0m     mimetype \u001b[38;5;241m=\u001b[39m \u001b[38;5;28mself\u001b[39m\u001b[38;5;241m.\u001b[39m_mimetype\n\u001b[0;32m-> 1035\u001b[0m     data, metadata \u001b[38;5;241m=\u001b[39m \u001b[38;5;28mself\u001b[39m\u001b[38;5;241m.\u001b[39m_data_and_metadata(always_both\u001b[38;5;241m=\u001b[39m\u001b[38;5;28;01mTrue\u001b[39;00m)\n\u001b[1;32m   1036\u001b[0m     \u001b[38;5;28;01mif\u001b[39;00m metadata:\n\u001b[1;32m   1037\u001b[0m         metadata \u001b[38;5;241m=\u001b[39m {mimetype: metadata}\n",
      "File \u001b[0;32m/opt/anaconda3/lib/python3.12/site-packages/IPython/core/display.py:1047\u001b[0m, in \u001b[0;36mImage._data_and_metadata\u001b[0;34m(self, always_both)\u001b[0m\n\u001b[1;32m   1045\u001b[0m     b64_data \u001b[38;5;241m=\u001b[39m b2a_base64(\u001b[38;5;28mself\u001b[39m\u001b[38;5;241m.\u001b[39mdata, newline\u001b[38;5;241m=\u001b[39m\u001b[38;5;28;01mFalse\u001b[39;00m)\u001b[38;5;241m.\u001b[39mdecode(\u001b[38;5;124m\"\u001b[39m\u001b[38;5;124mascii\u001b[39m\u001b[38;5;124m\"\u001b[39m)\n\u001b[1;32m   1046\u001b[0m \u001b[38;5;28;01mexcept\u001b[39;00m \u001b[38;5;167;01mTypeError\u001b[39;00m \u001b[38;5;28;01mas\u001b[39;00m e:\n\u001b[0;32m-> 1047\u001b[0m     \u001b[38;5;28;01mraise\u001b[39;00m \u001b[38;5;167;01mFileNotFoundError\u001b[39;00m(\n\u001b[1;32m   1048\u001b[0m         \u001b[38;5;124m\"\u001b[39m\u001b[38;5;124mNo such file or directory: \u001b[39m\u001b[38;5;124m'\u001b[39m\u001b[38;5;132;01m%s\u001b[39;00m\u001b[38;5;124m'\u001b[39m\u001b[38;5;124m\"\u001b[39m \u001b[38;5;241m%\u001b[39m (\u001b[38;5;28mself\u001b[39m\u001b[38;5;241m.\u001b[39mdata)) \u001b[38;5;28;01mfrom\u001b[39;00m \u001b[38;5;21;01me\u001b[39;00m\n\u001b[1;32m   1049\u001b[0m md \u001b[38;5;241m=\u001b[39m {}\n\u001b[1;32m   1050\u001b[0m \u001b[38;5;28;01mif\u001b[39;00m \u001b[38;5;28mself\u001b[39m\u001b[38;5;241m.\u001b[39mmetadata:\n",
      "\u001b[0;31mFileNotFoundError\u001b[0m: No such file or directory: '     +-----------+       \n     | __start__ |       \n     +-----------+       \n            *            \n            *            \n            *            \n+---------------------+  \n| create_blog_outline |  \n+---------------------+  \n            *            \n            *            \n            *            \n    +-------------+      \n    | create_blog |      \n    +-------------+      \n            *            \n            *            \n            *            \n      +---------+        \n      | __end__ |        \n      +---------+        '"
     ]
    },
    {
     "ename": "FileNotFoundError",
     "evalue": "No such file or directory: '     +-----------+       \n     | __start__ |       \n     +-----------+       \n            *            \n            *            \n            *            \n+---------------------+  \n| create_blog_outline |  \n+---------------------+  \n            *            \n            *            \n            *            \n    +-------------+      \n    | create_blog |      \n    +-------------+      \n            *            \n            *            \n            *            \n      +---------+        \n      | __end__ |        \n      +---------+        '",
     "output_type": "error",
     "traceback": [
      "\u001b[0;31m---------------------------------------------------------------------------\u001b[0m",
      "\u001b[0;31mTypeError\u001b[0m                                 Traceback (most recent call last)",
      "File \u001b[0;32m/opt/anaconda3/lib/python3.12/site-packages/IPython/core/display.py:1045\u001b[0m, in \u001b[0;36mImage._data_and_metadata\u001b[0;34m(self, always_both)\u001b[0m\n\u001b[1;32m   1044\u001b[0m \u001b[38;5;28;01mtry\u001b[39;00m:\n\u001b[0;32m-> 1045\u001b[0m     b64_data \u001b[38;5;241m=\u001b[39m b2a_base64(\u001b[38;5;28mself\u001b[39m\u001b[38;5;241m.\u001b[39mdata, newline\u001b[38;5;241m=\u001b[39m\u001b[38;5;28;01mFalse\u001b[39;00m)\u001b[38;5;241m.\u001b[39mdecode(\u001b[38;5;124m\"\u001b[39m\u001b[38;5;124mascii\u001b[39m\u001b[38;5;124m\"\u001b[39m)\n\u001b[1;32m   1046\u001b[0m \u001b[38;5;28;01mexcept\u001b[39;00m \u001b[38;5;167;01mTypeError\u001b[39;00m \u001b[38;5;28;01mas\u001b[39;00m e:\n",
      "\u001b[0;31mTypeError\u001b[0m: a bytes-like object is required, not 'str'",
      "\nThe above exception was the direct cause of the following exception:\n",
      "\u001b[0;31mFileNotFoundError\u001b[0m                         Traceback (most recent call last)",
      "File \u001b[0;32m/opt/anaconda3/lib/python3.12/site-packages/IPython/core/formatters.py:344\u001b[0m, in \u001b[0;36mBaseFormatter.__call__\u001b[0;34m(self, obj)\u001b[0m\n\u001b[1;32m    342\u001b[0m     method \u001b[38;5;241m=\u001b[39m get_real_method(obj, \u001b[38;5;28mself\u001b[39m\u001b[38;5;241m.\u001b[39mprint_method)\n\u001b[1;32m    343\u001b[0m     \u001b[38;5;28;01mif\u001b[39;00m method \u001b[38;5;129;01mis\u001b[39;00m \u001b[38;5;129;01mnot\u001b[39;00m \u001b[38;5;28;01mNone\u001b[39;00m:\n\u001b[0;32m--> 344\u001b[0m         \u001b[38;5;28;01mreturn\u001b[39;00m method()\n\u001b[1;32m    345\u001b[0m     \u001b[38;5;28;01mreturn\u001b[39;00m \u001b[38;5;28;01mNone\u001b[39;00m\n\u001b[1;32m    346\u001b[0m \u001b[38;5;28;01melse\u001b[39;00m:\n",
      "File \u001b[0;32m/opt/anaconda3/lib/python3.12/site-packages/IPython/core/display.py:1067\u001b[0m, in \u001b[0;36mImage._repr_png_\u001b[0;34m(self)\u001b[0m\n\u001b[1;32m   1065\u001b[0m \u001b[38;5;28;01mdef\u001b[39;00m \u001b[38;5;21m_repr_png_\u001b[39m(\u001b[38;5;28mself\u001b[39m):\n\u001b[1;32m   1066\u001b[0m     \u001b[38;5;28;01mif\u001b[39;00m \u001b[38;5;28mself\u001b[39m\u001b[38;5;241m.\u001b[39membed \u001b[38;5;129;01mand\u001b[39;00m \u001b[38;5;28mself\u001b[39m\u001b[38;5;241m.\u001b[39mformat \u001b[38;5;241m==\u001b[39m \u001b[38;5;28mself\u001b[39m\u001b[38;5;241m.\u001b[39m_FMT_PNG:\n\u001b[0;32m-> 1067\u001b[0m         \u001b[38;5;28;01mreturn\u001b[39;00m \u001b[38;5;28mself\u001b[39m\u001b[38;5;241m.\u001b[39m_data_and_metadata()\n",
      "File \u001b[0;32m/opt/anaconda3/lib/python3.12/site-packages/IPython/core/display.py:1047\u001b[0m, in \u001b[0;36mImage._data_and_metadata\u001b[0;34m(self, always_both)\u001b[0m\n\u001b[1;32m   1045\u001b[0m     b64_data \u001b[38;5;241m=\u001b[39m b2a_base64(\u001b[38;5;28mself\u001b[39m\u001b[38;5;241m.\u001b[39mdata, newline\u001b[38;5;241m=\u001b[39m\u001b[38;5;28;01mFalse\u001b[39;00m)\u001b[38;5;241m.\u001b[39mdecode(\u001b[38;5;124m\"\u001b[39m\u001b[38;5;124mascii\u001b[39m\u001b[38;5;124m\"\u001b[39m)\n\u001b[1;32m   1046\u001b[0m \u001b[38;5;28;01mexcept\u001b[39;00m \u001b[38;5;167;01mTypeError\u001b[39;00m \u001b[38;5;28;01mas\u001b[39;00m e:\n\u001b[0;32m-> 1047\u001b[0m     \u001b[38;5;28;01mraise\u001b[39;00m \u001b[38;5;167;01mFileNotFoundError\u001b[39;00m(\n\u001b[1;32m   1048\u001b[0m         \u001b[38;5;124m\"\u001b[39m\u001b[38;5;124mNo such file or directory: \u001b[39m\u001b[38;5;124m'\u001b[39m\u001b[38;5;132;01m%s\u001b[39;00m\u001b[38;5;124m'\u001b[39m\u001b[38;5;124m\"\u001b[39m \u001b[38;5;241m%\u001b[39m (\u001b[38;5;28mself\u001b[39m\u001b[38;5;241m.\u001b[39mdata)) \u001b[38;5;28;01mfrom\u001b[39;00m \u001b[38;5;21;01me\u001b[39;00m\n\u001b[1;32m   1049\u001b[0m md \u001b[38;5;241m=\u001b[39m {}\n\u001b[1;32m   1050\u001b[0m \u001b[38;5;28;01mif\u001b[39;00m \u001b[38;5;28mself\u001b[39m\u001b[38;5;241m.\u001b[39mmetadata:\n",
      "\u001b[0;31mFileNotFoundError\u001b[0m: No such file or directory: '     +-----------+       \n     | __start__ |       \n     +-----------+       \n            *            \n            *            \n            *            \n+---------------------+  \n| create_blog_outline |  \n+---------------------+  \n            *            \n            *            \n            *            \n    +-------------+      \n    | create_blog |      \n    +-------------+      \n            *            \n            *            \n            *            \n      +---------+        \n      | __end__ |        \n      +---------+        '"
     ]
    },
    {
     "data": {
      "text/plain": [
       "<IPython.core.display.Image object>"
      ]
     },
     "execution_count": 24,
     "metadata": {},
     "output_type": "execute_result"
    }
   ],
   "source": [
    "from IPython.display import Image\n",
    "Image(workflow.get_graph().draw_ascii())\n",
    "# Image(workflow.get_graph().draw_mermaid_png(max_retries=5, retry_delay=2.0))\n"
   ]
  },
  {
   "cell_type": "code",
   "execution_count": null,
   "id": "20c05608",
   "metadata": {},
   "outputs": [],
   "source": []
  }
 ],
 "metadata": {
  "kernelspec": {
   "display_name": "base",
   "language": "python",
   "name": "python3"
  },
  "language_info": {
   "codemirror_mode": {
    "name": "ipython",
    "version": 3
   },
   "file_extension": ".py",
   "mimetype": "text/x-python",
   "name": "python",
   "nbconvert_exporter": "python",
   "pygments_lexer": "ipython3",
   "version": "3.12.7"
  }
 },
 "nbformat": 4,
 "nbformat_minor": 5
}
